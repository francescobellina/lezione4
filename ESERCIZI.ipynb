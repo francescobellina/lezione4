{
  "cells": [
    {
      "cell_type": "markdown",
      "metadata": {
        "id": "-BX-fRZrGMrm"
      },
      "source": [
        "##ESERCIZIO1: generatore lineare congruenziale\n"
      ]
    },
    {
      "cell_type": "markdown",
      "source": [
        "#ESERCIZIO1:   soluzione"
      ],
      "metadata": {
        "id": "X4F59MmdfNae"
      }
    },
    {
      "cell_type": "code",
      "source": [
        "#!/usr/bin/python\n",
        "\n",
        "'''\n",
        "Si scriva una funzione che implementi il generatore lineare congruenziale di numeri pseudo-casuali,\n",
        "utilizzando questi parametri:\n",
        "M = 2147483647\n",
        "A = 214013\n",
        "C = 2531011\n",
        "\n",
        "'''\n",
        "#SI NOTI COME NON VENGA IMPORTATA LA LIBRERIA RAND: siamo noi a creare numeri casuali con questo apposito algoritmo\n",
        "#import sys : vedere su VM\n",
        "\n",
        "\n",
        "def main () :\n",
        "    '''\n",
        "    Funzione che implementa il programma principale\n",
        "    '''\n",
        "\n",
        "\n",
        "    # fixed parameters\n",
        "    A =  214013\n",
        "    C =  2531011\n",
        "    M =  2147483647\n",
        "    # first number, i.e. the seed of the generation\n",
        "    num=10 #numero aleatorio che scelgo io, potrei usare la funzione seed() eventualmente\n",
        "\n",
        "    num=int(input(\"inserire un numero che identificherà univocaamente la sequenza pseudocasuale generata:\"))\n",
        "    lung= int(input(\"inserire lunghezza lista npc:\"))\n",
        "\n",
        "    randlist = []\n",
        "    for i in range (lung):\n",
        "        num = (A * num + C) % M #implementazione del generatore di numeri pc, se cambio num cambia la sequenza di num generati\n",
        "        randlist.append (num)\n",
        "        print (i, randlist[-1])\n",
        "\n",
        "\n",
        "# ---- ---- ---- ---- ---- ---- ---- ---- ---- ---- ---- ---- ----\n",
        "\n",
        "\n",
        "if __name__ == \"__main__\":\n",
        "    main ()"
      ],
      "metadata": {
        "colab": {
          "base_uri": "https://localhost:8080/"
        },
        "id": "pzDZE4uffQw8",
        "outputId": "5bfa9ba0-682b-477e-946b-fd6df068b3a1"
      },
      "execution_count": null,
      "outputs": [
        {
          "output_type": "stream",
          "name": "stdout",
          "text": [
            "inserire un numero che identificherà univocaamente la sequenza pseudocasuale generata:10\n",
            "inserire lunghezza lista npc:10\n",
            "0 4671141\n",
            "1 1107533989\n",
            "2 314064890\n",
            "3 2028650775\n",
            "4 871927096\n",
            "5 292104841\n",
            "6 986903774\n",
            "7 928266329\n",
            "8 1647182612\n",
            "9 464283329\n"
          ]
        }
      ]
    },
    {
      "cell_type": "markdown",
      "source": [
        "#esercizio 2: si basa sulla lezione 5 (...)"
      ],
      "metadata": {
        "id": "6axiL37YHQmG"
      }
    },
    {
      "cell_type": "code",
      "source": [
        "#To be solved after lecture 5\n",
        "#Implement the generator in the form of an object, which contains a method for generating a random number\n",
        "#and a method for setting the generation seed, using an appropriate variable of the class to store this information.\n",
        "\n",
        "#How should the seed change every time a new random number is generated?\n",
        "\n",
        "\n",
        "#CI SERVE: L'ALGORITMO CHE CREA NUMERI PSEUDOCASUALI (LCG) IN UNA CLASSE. POI UN  METODO DELLA CLASSE CHE PERMETTA DI\n",
        "#IMPOSTARE IL SEED DELLA  SEQUEENZA MA USANDO UNA VARIABILE DELLA CLASSE PER IMMAGAZINARE TALE INFORMAZIONE\n",
        "\n",
        "#(NoN USO ANCORA LA LIBRERIA RAND. STO IO GENERANDO NUMERI PSC)\n",
        "\n",
        "class lcg():\n",
        "\n",
        "   def seme(self, num):\n",
        "    num == 10\n",
        "\n",
        "   def __init__(self,len):\n",
        "\n",
        "    A =  214013\n",
        "    C =  2531011\n",
        "    M =  2147483647\n",
        "    self.len=10\n",
        "    num = lcg.seme()\n",
        "\n",
        "   def print(self):\n",
        "\n",
        "    randlist = []\n",
        "    for i in range (lung):\n",
        "        num = (A * num + C) % M #implementazione del generatore di numeri pc, se cambio num cambia la sequenza di num generati\n",
        "        randlist.append (num)\n",
        "        print (i, randlist[-1])\n",
        "\n",
        "def main():\n",
        "   lcg(10)\n",
        "   lcg.print()\n",
        "\n",
        "\n",
        "if \"__name__\" == \"__main__\":\n",
        "  main()\n",
        "\n",
        "\n",
        "\n",
        "\n"
      ],
      "metadata": {
        "id": "HpFCp9G-HTpq"
      },
      "execution_count": null,
      "outputs": []
    },
    {
      "cell_type": "markdown",
      "source": [
        "#soluzione esercizio2:"
      ],
      "metadata": {
        "id": "Aihtm9SKnJe7"
      }
    },
    {
      "cell_type": "code",
      "source": [
        "\n",
        "\n",
        "#import sys\n",
        "\n",
        "\n",
        "class LCG :\n",
        "    '''Linear congruential generator'''\n",
        "\n",
        "    # fixed parameters\n",
        "    A =  214013\n",
        "    C =  2531011\n",
        "    M =  2147483647\n",
        "    # current sequence value\n",
        "\n",
        "    def __init__ (self, value = 12345): #COSTRUTTORE, inizializzaziooone di base\n",
        "        self.num = value\n",
        "\n",
        "    def seed (self, value) : #per modificare il seme dell'ogggetto LCG una volta creato\n",
        "        self.num = value\n",
        "\n",
        "    def algoritmo (self) :\n",
        "        self.num = (self.A * self.num + self.C) % self.M #formula\n",
        "        return self.num\n",
        "\n",
        "\n",
        "# ---- ---- ---- ---- ---- ---- ---- ---- ---- ---- ---- ---- ----\n",
        "\n",
        "\n",
        "def main () :\n",
        "    '''\n",
        "    Funzione che implementa il programma principale\n",
        "    '''\n",
        "\n",
        "    my_LCG = LCG (17132) #creazione dell'oggetto. tra parentesi è il dato membro dell'oggetto (il seme) potrei mettere un input\n",
        "    my_LCG.seed(10) #COSI: chiamo la funzione seed e modifico il parametro dell'oggetto\n",
        "\n",
        "    lung= input(\"inserire lunghezza lista npc:\")\n",
        "\n",
        "    randlist = []\n",
        "    for i in range (int(lung)):\n",
        "        randlist.append (my_LCG.algoritmo ()) #chiamata alla funzione algoritmo della classe\n",
        "        print (i, randlist[-1])\n",
        "\n",
        "\n",
        "# ---- ---- ---- ---- ---- ---- ---- ---- ---- ---- ---- ---- ----\n",
        "\n",
        "\n",
        "if __name__ == \"__main__\":\n",
        "    main ()"
      ],
      "metadata": {
        "colab": {
          "base_uri": "https://localhost:8080/"
        },
        "id": "LsDux7mCnSIc",
        "outputId": "4bfdc6ec-a811-4eef-c835-02fde55473c2"
      },
      "execution_count": null,
      "outputs": [
        {
          "output_type": "stream",
          "name": "stdout",
          "text": [
            "inserire lunghezza lista npc:11\n",
            "0 1521518080\n",
            "1 1705991441\n",
            "2 2064032686\n",
            "3 1033506617\n",
            "4 1628448620\n",
            "5 498422382\n",
            "6 1211539840\n",
            "7 250253798\n",
            "8 1473929852\n",
            "9 574006551\n",
            "10 211987186\n"
          ]
        }
      ]
    },
    {
      "cell_type": "markdown",
      "source": [
        "#ESERCIZIO3:"
      ],
      "metadata": {
        "id": "JgKsTugzHWQS"
      }
    },
    {
      "cell_type": "code",
      "source": [
        "#Show that initializing the seed of a pseudo-random integer generator is equivalent to looking into a sequence of pseudo-random numbers at any point.\n",
        "\n",
        "import random\n",
        "\n",
        "randlist = []\n",
        "\n",
        "M = 2147483647\n",
        "random.seed(1)\n",
        "for i in range (5):\n",
        "    # Return the next random floating point number in the range 0.0 <= X < 1.0\n",
        "    randlist.append (random.randint (0,M))\n",
        "    print (i, randlist[-1])\n",
        "\n"
      ],
      "metadata": {
        "colab": {
          "base_uri": "https://localhost:8080/"
        },
        "id": "WUcvV8r9LcpA",
        "outputId": "078d35ec-c1f2-4ea6-e5bb-c65f18a5a057"
      },
      "execution_count": null,
      "outputs": [
        {
          "output_type": "stream",
          "name": "stdout",
          "text": [
            "0 577090037\n",
            "1 271041745\n",
            "2 1095513148\n",
            "3 506456969\n",
            "4 2127877499\n"
          ]
        }
      ]
    },
    {
      "cell_type": "markdown",
      "source": [
        "#esercizio3: SOLUZIONE"
      ],
      "metadata": {
        "id": "x3gUbPQksHwZ"
      }
    },
    {
      "cell_type": "code",
      "source": [
        "#!/usr/bin/python\n",
        "\n",
        "'''\n",
        "Si mostri che inizializzare il seed di un generatore di numeri pseudo-casuali interi\n",
        "equivale ad inserirsi in una sequenza di numeri pseudo-casuali ad un qualunque punto.\n",
        "python3 es_4.3.py 10\n",
        "\n",
        "nb: `random.seed` does not restart the sequence from the given value,\n",
        "rather it uses the given value to calculate a random *state* that is then used to generate the random numbers.\n",
        "'''\n",
        "\n",
        "import sys\n",
        "import random\n",
        "\n",
        "\n",
        "def main () :\n",
        "    '''\n",
        "    Funzione che implementa il programma principale\n",
        "    '''\n",
        "\n",
        "\n",
        "    randlist = []\n",
        "    randstates = []\n",
        "    for i in range (10):\n",
        "        # Return the next random floating point number in the range 0.0 <= X < 1.0\n",
        "        randlist.append (random.randint (0, 100))\n",
        "        randstates.append (random.getstate ())\n",
        "        print (i, randlist[-1])\n",
        "\n",
        "    random.setstate (randstates[4])\n",
        "    print (random.randint (0, 100), randlist[5])\n",
        "\n",
        "    random.seed( randlist[4] )\n",
        "    print (random.randint (0, 100), randlist[5])\n",
        "\n",
        "\n",
        "# ---- ---- ---- ---- ---- ---- ---- ---- ---- ---- ---- ---- ----\n",
        "\n",
        "\n",
        "if __name__ == \"__main__\":\n",
        "    main ()"
      ],
      "metadata": {
        "colab": {
          "base_uri": "https://localhost:8080/"
        },
        "id": "cKiYejA5sMoq",
        "outputId": "e13924b7-5faf-43c5-f7a2-dc2e803d8ea5"
      },
      "execution_count": null,
      "outputs": [
        {
          "output_type": "stream",
          "name": "stdout",
          "text": [
            "0 3\n",
            "1 46\n",
            "2 23\n",
            "3 31\n",
            "4 1\n",
            "5 23\n",
            "6 83\n",
            "7 66\n",
            "8 26\n",
            "9 12\n",
            "23 23\n",
            "17 23\n"
          ]
        }
      ]
    },
    {
      "cell_type": "markdown",
      "source": [
        "#ESERCIZIO4:"
      ],
      "metadata": {
        "id": "-Lf5teW6Nzg5"
      }
    },
    {
      "cell_type": "code",
      "source": [
        "#Implement a pseudo-random number generator according to a uniform distribution between two arbitrary endpoints.\n",
        "\n",
        "#Use the matplotlib library to visualize the distribution of the generated numbers.\n",
        "\n",
        "import random\n",
        "import matplotlib.pyplot as plt\n",
        "import numpy as np\n",
        "\n",
        "\n",
        "list1=[] #voglio creare un input sulle x con numeri casuali\n",
        "random.seed(1)\n",
        "\n",
        "xmin=-10   #2 arbitrary endpoints\n",
        "xmax=10\n",
        "\n",
        "fig, axes = plt.subplots(1,3)\n",
        "\n",
        "N=50\n",
        "for i in range(N):\n",
        "  list1.append(xmin+(xmax-xmin)*random.random())\n",
        "axes[0].hist(list1)\n",
        "\n",
        "\n",
        "list1=[]\n",
        "N=1000\n",
        "for i in range(N):\n",
        "  list1.append(xmin+(xmax-xmin)*random.random())\n",
        "axes[1].hist(list1)\n",
        "\n",
        "\n",
        "list1=[]\n",
        "N=200000\n",
        "for i in range(N):\n",
        "  list1.append(xmin+(xmax-xmin)*random.random())\n",
        "axes[2].hist(list1)\n",
        "\n",
        "plt.show()\n",
        "\n",
        "\n",
        "\n"
      ],
      "metadata": {
        "colab": {
          "base_uri": "https://localhost:8080/",
          "height": 430
        },
        "id": "Oh-5KFYHNr_A",
        "outputId": "1a7dc13f-e94a-401b-f389-49ea9b3d414d"
      },
      "execution_count": null,
      "outputs": [
        {
          "output_type": "display_data",
          "data": {
            "text/plain": [
              "<Figure size 640x480 with 3 Axes>"
            ],
            "image/png": "[encoded data removed]"
          },
          "metadata": {}
        }
      ]
    },
    {
      "cell_type": "code",
      "source": [
        "#riscriviamolo meglio con una funzione ecc\n",
        "\n",
        "import random\n",
        "import matplotlib.pyplot as plt\n",
        "import numpy as np\n",
        "\n",
        "def rand_hist(a,b): #funzione cuore del programma che richiamo all'interno dei cicli\n",
        "   return b+(a-b)*random.random()\n",
        "\n",
        "xmin=-10\n",
        "xmax=10\n",
        "N=100\n",
        "\n",
        "list1=[]\n",
        "fig, axes = plt.subplots(1,3)\n",
        "\n",
        "for i in range(N):\n",
        "  list1.append(rand_hist(xmin,xmax))\n",
        "axes[0].hist(list1)\n",
        "\n",
        "N=N*10\n",
        "\n",
        "for i in range(N):\n",
        "  list1.append(rand_hist(xmin,xmax))\n",
        "axes[1].hist(list1)\n",
        "\n",
        "N=N*100\n",
        "\n",
        "for i in range(N):\n",
        "  list1.append(rand_hist(xmin,xmax))\n",
        "axes[2].hist(list1)\n"
      ],
      "metadata": {
        "colab": {
          "base_uri": "https://localhost:8080/",
          "height": 534
        },
        "id": "TwDUwjxETmAB",
        "outputId": "cb1b65ba-18ed-4c3e-cca2-c8b35dfb1bda"
      },
      "execution_count": null,
      "outputs": [
        {
          "output_type": "execute_result",
          "data": {
            "text/plain": [
              "(array([10083., 10081., 10265., 10053., 10001., 10188., 10042., 10049.,\n",
              "        10032., 10306.]),\n",
              " array([-9.99922804e+00, -7.99932342e+00, -5.99941880e+00, -3.99951418e+00,\n",
              "        -1.99960957e+00,  2.95050190e-04,  2.00019967e+00,  4.00010429e+00,\n",
              "         6.00000890e+00,  7.99991352e+00,  9.99981814e+00]),\n",
              " <BarContainer object of 10 artists>)"
            ]
          },
          "metadata": {},
          "execution_count": 1
        },
        {
          "output_type": "display_data",
          "data": {
            "text/plain": [
              "<Figure size 640x480 with 3 Axes>"
            ],
            "image/png": "[encoded data removed]"
          },
          "metadata": {}
        }
      ]
    },
    {
      "cell_type": "markdown",
      "source": [
        "#ES 4: utilizziamo la libreria myrand (in realtà esplicito le funzioni utili)"
      ],
      "metadata": {
        "id": "uESiJQVrNryl"
      }
    },
    {
      "cell_type": "code",
      "source": [
        "#Si implementi un generatore di numeri pseudo-casuali secondo una distribuzione uniforme\n",
        "#fra due estremi arbitrari.\n",
        "\n",
        "import random\n",
        "import matplotlib.pyplot as plt\n",
        "import numpy as np\n",
        "from math import floor,sqrt\n",
        "\n",
        "#------------------------\n",
        "#------------------------\n",
        "#from myrand import generate_range:\n",
        "\n",
        "def rand_range (xMin, xMax) :\n",
        "    '''\n",
        "    generazione di un numero pseudo-casuale distribuito fra xMin ed xMax\n",
        "    '''\n",
        "    return xMin + random.random () * (xMax - xMin)\n",
        "\n",
        "\n",
        "# ---- ---- ---- ---- ---- ---- ---- ---- ---- ---- ---- ---- ----\n",
        "\n",
        "\n",
        "def generate_range (xMin, xMax, N, seed = 0.) :\n",
        "    '''\n",
        "    generazione di N numeri pseudo-casuali distribuiti fra xMin ed xMax\n",
        "    a partire da un determinato seed\n",
        "    '''\n",
        "    if seed != 0. : random.seed (float (seed))\n",
        "    randlist = []\n",
        "    for i in range (N):\n",
        "        # Return the next random floating point number in the range 0.0 <= X < 1.0\n",
        "        randlist.append (rand_range (xMin, xMax))\n",
        "    return randlist\n",
        "\n",
        "#-------------------------------------------------------------\n",
        "#-------------------------------------------------------------\n",
        "\n",
        "def main () :\n",
        "    '''\n",
        "    Funzione che implementa il programma principale\n",
        "    '''\n",
        "\n",
        "\n",
        "\n",
        "    xMin = float (-10)  # minimum of the histogram drawing range\n",
        "    xMax = float (10)  # maximum of the histogram drawing range\n",
        "    seed = float (1)\n",
        "    N    = int (100)\n",
        "    N1   = int (N*10)\n",
        "    N2   = int (N1*10)\n",
        "\n",
        "\n",
        "\n",
        "    randlist0= generate_range (xMin, xMax, N, seed)\n",
        "    randlist1= generate_range (xMin, xMax, N1, seed)\n",
        "    randlist2= generate_range (xMin, xMax, N2, seed)\n",
        "    # plotting of the generated list of numbers in a histogram\n",
        "\n",
        "    nBins0= floor (len (randlist0) / 20.) + 1     # number of bins of the hitogram\n",
        "    nBins1= floor (len (randlist1) / 20.) + 1\n",
        "    nBins2= floor (len (randlist2) / 20.) + 1\n",
        "\n",
        "\n",
        "\n",
        "    bin_edges0 = np.linspace (xMin, xMax, nBins0)  # edges o the histogram bins\n",
        "    bin_edges1 = np.linspace (xMin, xMax, nBins1)\n",
        "    bin_edges2 = np.linspace (xMin, xMax, nBins2)\n",
        "    # disegno della funzione\n",
        "    fig, ax = plt.subplots (2,3)\n",
        "\n",
        "\n",
        "    #ax.set_title ('Histogram of random numbers', size=14)\n",
        "    #ax.set_xlabel ('random value')\n",
        "    #ax.set_ylabel ('events in bin')\n",
        "\n",
        "    ax[0][0].hist (randlist0,      # list of numbers\n",
        "             #bins = bin_edges0,\n",
        "             color = 'blue',\n",
        "             # normed = True,\n",
        "            )\n",
        "    ax[0][1].hist (randlist1,      # list of numbers\n",
        "             #bins = bin_edges1,\n",
        "             color = 'blue',\n",
        "             # normed = True,\n",
        "            )\n",
        "    ax[0][2].hist (randlist2,      # list of numbers\n",
        "             #bins = bin_edges2,\n",
        "             color = 'blue',\n",
        "             # normed = True,\n",
        "            )\n",
        "\n",
        "    #ORA LE CONFRONTIAMO CON IL BINNING INCLUSO come parametro:\n",
        "    ax[1][0].hist (randlist0,      # list of numbers\n",
        "             bins = bin_edges0,\n",
        "             color = 'orange',\n",
        "             # normed = True,\n",
        "            )\n",
        "    ax[1][1].hist (randlist1,      # list of numbers\n",
        "             bins = bin_edges1,\n",
        "             color = 'orange',\n",
        "             # normed = True,\n",
        "            )\n",
        "    ax[1][2].hist (randlist2,      # list of numbers\n",
        "             bins = bin_edges2,\n",
        "             color = 'orange',\n",
        "             # normed = True,\n",
        "            )\n",
        "   #plt.savefig ('es_4.4.png')\n",
        "\n",
        "\n",
        "# ---- ---- ---- ---- ---- ---- ---- ---- ---- ---- ---- ---- ----\n",
        "\n",
        "\n",
        "if __name__ == \"__main__\":\n",
        "    main ()"
      ],
      "metadata": {
        "colab": {
          "base_uri": "https://localhost:8080/",
          "height": 430
        },
        "id": "AKZYDxzkOTAN",
        "outputId": "728a705e-3fc3-4393-b58a-b809a75dfe4a"
      },
      "execution_count": null,
      "outputs": [
        {
          "output_type": "display_data",
          "data": {
            "text/plain": [
              "<Figure size 640x480 with 6 Axes>"
            ],
            "image/png": "[encoded data removed]"
          },
          "metadata": {}
        }
      ]
    },
    {
      "cell_type": "markdown",
      "source": [
        "#esercizio4: SOLUZIONE"
      ],
      "metadata": {
        "id": "rIfS4Q6PtYNH"
      }
    },
    {
      "cell_type": "code",
      "source": [
        "#!/usr/bin/python\n",
        "'''\n",
        "Si implementi un generatore di numeri pseudo-casuali secondo una distribuzione uniforme\n",
        "fra due estremi arbitrari.\n",
        "Si utilizzi la libreria MatPlotLib per visualizzare la distribuzione dei numeri generati.\n",
        "python3 es_4.4.py 2.2 4.3 2000 2.4\n",
        "'''\n",
        "\n",
        "import sys\n",
        "import random\n",
        "import matplotlib.pyplot as plt\n",
        "import numpy as np\n",
        "from math import floor\n",
        "#___________________________________________________________________________________\n",
        "#from myrand import generate_range:\n",
        "def rand_range (xMin, xMax) :\n",
        "    '''\n",
        "    generazione di un numero pseudo-casuale distribuito fra xMin ed xMax\n",
        "    '''\n",
        "    return xMin + random.random () * (xMax - xMin)\n",
        "\n",
        "\n",
        "# ---- ---- ---- ---- ---- ---- ---- ---- ---- ---- ---- ---- ----\n",
        "\n",
        "\n",
        "def generate_range (xMin, xMax, N, seed = 0.) :\n",
        "    '''\n",
        "    generazione di N numeri pseudo-casuali distribuiti fra xMin ed xMax\n",
        "    a partire da un determinato seed\n",
        "    '''\n",
        "    if seed != 0. : random.seed (float (seed))\n",
        "    randlist = []\n",
        "    for i in range (N):\n",
        "        # Return the next random floating point number in the range 0.0 <= X < 1.0\n",
        "        randlist.append (rand_range (xMin, xMax))\n",
        "    return randlist\n",
        "#_______________________________________________________________________________\n",
        "\n",
        "\n",
        "def main () :\n",
        "    '''\n",
        "    Funzione che implementa il programma principale\n",
        "    '''\n",
        "\n",
        "    if len(sys.argv) < 5 :\n",
        "        print ('usage: ', sys.argv[0], 'xMin xMax numero seed')\n",
        "        exit ()\n",
        "\n",
        "    xMin = float (input(\"inserire xMin: \")) # minimum of the histogram drawing range\n",
        "    xMax = float (input(\"inserire xMax: \")) # maximum of the histogram drawing range\n",
        "    seed = float (input(\"inserire un seed: \"))\n",
        "    N    = int(input(\"inserire N: \"))\n",
        "\n",
        "    print (' -------- ')\n",
        "    print (' minimum : ', xMin)\n",
        "    print (' maximum : ', xMax)\n",
        "    print (' seed    : ', seed)\n",
        "    print (' N       : ', N)\n",
        "    print (' -------- ')\n",
        "\n",
        "    randlist = generate_range (xMin, xMax, N, seed)\n",
        "\n",
        "    # plotting of the generated list of numbers in a histogram\n",
        "\n",
        "    nBins = floor (len (randlist) / 20.) + 1     # number of bins of the hitogram\n",
        "    bin_edges = np.linspace (xMin, xMax, nBins)  # edges o the histogram bins\n",
        "\n",
        "    # disegno della funzione\n",
        "    fig, ax = plt.subplots ()\n",
        "    ax.set_title ('Histogram of random numbers', size=14)\n",
        "    ax.set_xlabel ('random value')\n",
        "    ax.set_ylabel ('events in bin')\n",
        "    ax.hist (randlist,      # list of numbers\n",
        "             bins = bin_edges,\n",
        "             color = 'orange',\n",
        "             # normed = True,\n",
        "            )\n",
        "    plt.savefig ('es_4.4.png')\n",
        "\n",
        "\n",
        "# ---- ---- ---- ---- ---- ---- ---- ---- ---- ---- ---- ---- ----\n",
        "\n",
        "\n",
        "if __name__ == \"__main__\":\n",
        "    main ()"
      ],
      "metadata": {
        "colab": {
          "base_uri": "https://localhost:8080/",
          "height": 664
        },
        "id": "zWxxA-Ovtc_H",
        "outputId": "15212ce5-c367-479e-9a38-33adb11933ed"
      },
      "execution_count": 3,
      "outputs": [
        {
          "output_type": "stream",
          "name": "stdout",
          "text": [
            "usage:  /usr/local/lib/python3.10/dist-packages/colab_kernel_launcher.py xMin xMax numero seed\n",
            "inserire xMin: -10\n",
            "inserire xMax: 10\n",
            "inserire un seed: 1\n",
            "inserire N: 1000\n",
            " -------- \n",
            " minimum :  -10.0\n",
            " maximum :  10.0\n",
            " seed    :  1.0\n",
            " N       :  1000\n",
            " -------- \n"
          ]
        },
        {
          "output_type": "display_data",
          "data": {
            "text/plain": [
              "<Figure size 640x480 with 1 Axes>"
            ],
            "image/png": "[encoded data removed]"
          },
          "metadata": {}
        }
      ]
    },
    {
      "cell_type": "markdown",
      "source": [
        "#ESERCIZIO 5: numeri pscas tramite **TAC**"
      ],
      "metadata": {
        "id": "0IKv1vktV4tc"
      }
    },
    {
      "cell_type": "code",
      "source": [
        "#implement a pseudo-random number generator that uses the try-and-catch method to generate pseudo-random numbers\n",
        "#according to an arbitrary probability distribution.\n",
        "#Take the probability density function (pdf) as an input parameter for generating random numbers.\n",
        "#Use the matplotlib library to visualize the distribution of the generated numbers.\n",
        "\n",
        "import random\n",
        "import numpy as np\n",
        "import matplotlib.pyplot as plt\n",
        "\n",
        "from scipy.stats import norm\n",
        "\n",
        "def main():\n",
        " xMin=0\n",
        " xMax=10\n",
        " yMax=1\n",
        "\n",
        " x = random.random(xMin, xMax) #generati i numeri casuali passato alla funzione pdf\n",
        " y = random.random(0, yMax)\n",
        " normal = norm(100.,10.) #media 100, sigma 10\n",
        "\n",
        " f=normal.pdf(x) #COSI DEFINISCO una pdf normale( gaussiana) da passare all'interno del TAC\n",
        "\n",
        "\n",
        " list1=[]\n",
        " while (y > f(x)) : #SELEZIONO I PUNTI IDONEI (al di sotto della pdf)\n",
        "        x = random.random(xMin, xMax) #generati i numeri casuali passato alla funzione pdf\n",
        "        y = random.random(0, yMax)\n",
        "        list1.append(x)\n",
        "\n",
        "\n",
        "\n",
        "#plottiamo su matplotlib:\n",
        " plt.close()\n",
        " fig, axes = plt.subplots(1,1)\n",
        "\n",
        " axes.hist(list1)\n",
        " plt.show()\n",
        "\n",
        "if __name__ == \"__name__\":\n",
        "  main()"
      ],
      "metadata": {
        "id": "XPLBldvWV-_x"
      },
      "execution_count": null,
      "outputs": []
    },
    {
      "cell_type": "code",
      "source": [
        "#implement a pseudo-random number generator that uses the try-and-catch method to generate pseudo-random numbers\n",
        "#according to an arbitrary probability distribution, take the probability density function (pdf) as an input parameter for generating random numbers.\n",
        "#Use the matplotlib library to visualize the distribution of the generated numbers\n",
        "\n",
        "\n",
        "import random\n",
        "import matplotlib.pyplot as plt\n",
        "import numpy as np\n",
        "from scipy.stats import norm\n",
        "from math import floor,sqrt\n",
        "\n",
        "#myrand:\n",
        "#************************************************************************\n",
        "\n",
        "def rand_range (xMin, xMax) :\n",
        "    '''\n",
        "    generazione di un numero pseudo-casuale distribuito fra xMin ed xMax\n",
        "    '''\n",
        "    return xMin + random.random () * (xMax - xMin)\n",
        "\n",
        "\n",
        "# ---- ---- ---- ---- ---- ---- ---- ---- ---- ---- ---- ---- ----\n",
        "\n",
        "def rand_TAC (f, xMin, xMax, yMax) :\n",
        "    '''\n",
        "    generazione di un numero pseudo-casuale\n",
        "    con il metodo try and catch\n",
        "    '''\n",
        "    x = rand_range (xMin, xMax)\n",
        "    y = rand_range (0, yMax)\n",
        "    while (y > f (x)) :\n",
        "        x = rand_range (xMin, xMax)\n",
        "        y = rand_range (0, yMax)\n",
        "    return x\n",
        "\n",
        "\n",
        "# ---- ---- ---- ---- ---- ---- ---- ---- ---- ---- ---- ---- ----\n",
        "\n",
        "\n",
        "def generate_TAC (f, xMin, xMax, yMax, N, seed = 0.) :\n",
        "    '''\n",
        "    generazione di N numeri pseudo-casuali\n",
        "    con il metodo try and catch, in un certo intervallo,\n",
        "    a partire da un determinato seed\n",
        "    '''\n",
        "    if seed != 0. : random.seed (float (seed))\n",
        "    randlist = []\n",
        "    for i in range (N):\n",
        "        # Return the next random floating point number in the range 0.0 <= X < 1.0\n",
        "        randlist.append (rand_TAC (f, xMin, xMax, yMax))\n",
        "    return randlist\n",
        "#**********************************************************************************\n",
        "\n",
        "def main():\n",
        "\n",
        "  xMin = float(0)\n",
        "  xMax = float(10)\n",
        "  yMax = float(6)\n",
        "  seed = float(1)\n",
        "\n",
        "  #definizione della funzione (densità di prob) da inserire in generate_TAC\n",
        "\n",
        "\n",
        "  def func (x) :\n",
        "    '''\n",
        "    funzione pdf (uso la normale) sotto la quale generare numeri casuali\n",
        "    '''\n",
        "    normal = norm() #media 0, sigma 1\n",
        "    return normal.pdf(x)\n",
        "\n",
        "    randlist = generate_TAC (func, xMin, xMax, yMax, N, seed)   #lista numeri random generati con il TAC\n",
        "\n",
        "    # plotting of the generated list of numbers in a histogram:\n",
        "\n",
        "    nBins = floor (len (randlist) / 400.)             # number of bins of the hitogram\n",
        "    bin_edges = np.linspace (xMin, xMax, nBins + 1)  # edges of the histogram bins\n",
        "\n",
        "    # disegno della funzione\n",
        "    fig, ax = plt.subplots ()\n",
        "    ax.set_title ('Histogram of random numbers', size=14)\n",
        "    ax.set_xlabel ('random value')\n",
        "    ax.set_ylabel ('events in bin')\n",
        "    ax.hist (randlist,      # list of numbers\n",
        "             bins = bin_edges,\n",
        "             color = 'orange',\n",
        "             # normed = True,\n",
        "            )\n",
        "\n",
        "    plt.show ()\n",
        "\n",
        "if __name__ == \"__main__\":\n",
        "  main ()"
      ],
      "metadata": {
        "id": "49xto-bLbSZs"
      },
      "execution_count": null,
      "outputs": []
    },
    {
      "cell_type": "code",
      "source": [
        "#implement a pseudo-random number generator that uses the try-and-catch method to generate pseudo-random numbers\n",
        "#according to an arbitrary probability distribution, take the probability density function (pdf) as an input parameter for generating random numbers.\n",
        "#Use the matplotlib library to visualize the distribution of the generated numbers\n",
        "\n",
        "\n",
        "import random\n",
        "import matplotlib.pyplot as plt\n",
        "import numpy as np\n",
        "from scipy.stats import norm\n",
        "from math import floor,sqrt\n",
        "\n",
        "#myrand:\n",
        "#************************************************************************\n",
        "\n",
        "def rand_range (xMin, xMax) :\n",
        "    '''\n",
        "    generazione di un numero pseudo-casuale distribuito fra xMin ed xMax\n",
        "    '''\n",
        "    return xMin + random.random () * (xMax - xMin)\n",
        "\n",
        "\n",
        "# ---- ---- ---- ---- ---- ---- ---- ---- ---- ---- ---- ---- ----\n",
        "\n",
        "def rand_TAC (f, xMin, xMax, yMax) :\n",
        "    '''\n",
        "    generazione di un numero pseudo-casuale\n",
        "    con il metodo try and catch\n",
        "    '''\n",
        "    x = rand_range (xMin, xMax)\n",
        "    y = rand_range (0, yMax)\n",
        "    while (y > f (x)) :\n",
        "        x = rand_range (xMin, xMax)\n",
        "        y = rand_range (0, yMax)\n",
        "    return x\n",
        "\n",
        "\n",
        "# ---- ---- ---- ---- ---- ---- ---- ---- ---- ---- ---- ---- ----\n",
        "\n",
        "\n",
        "def generate_TAC (f, xMin, xMax, yMax, N, seed = 0.) :\n",
        "    '''\n",
        "    generazione di N numeri pseudo-casuali\n",
        "    con il metodo try and catch, in un certo intervallo,\n",
        "    a partire da un determinato seed\n",
        "    '''\n",
        "    if seed != 0. : random.seed (float (seed))\n",
        "    randlist = []\n",
        "    for i in range (N):\n",
        "        # Return the next random floating point number in the range 0.0 <= X < 1.0\n",
        "        randlist.append (rand_TAC (f, xMin, xMax, yMax))\n",
        "    return randlist\n",
        "#**********************************************************************************\n",
        " #definizione della funzione (densità di prob) da inserire in generate_TAC\n",
        "\n",
        "\n",
        "def func (x) :\n",
        " normal = norm(100.,10.) #media 0, sigma 1\n",
        " return normal.pdf(x)\n",
        "\n",
        "\n",
        "def main():\n",
        "\n",
        "  xMin = float(-10)\n",
        "  xMax = float(10)\n",
        "  yMax = float(15)\n",
        "  N=100\n",
        "  seed = float(1)\n",
        "\n",
        "  #definizione della funzione (densità di prob) da inserire in generate_TAC\n",
        "\n",
        "  randlist = generate_TAC (func, xMin, xMax, yMax, N, seed)\n",
        "\n",
        "    # plotting of the generated list of numbers in a histogram:\n",
        "\n",
        "  nBins = floor (len (randlist) / 400.)             # number of bins of the hitogram\n",
        "  bin_edges = np.linspace (xMin, xMax, nBins + 1)  # edges of the histogram bins\n",
        "\n",
        "    # disegno della funzione\n",
        "  fig, ax = plt.subplots ()\n",
        "  ax.set_title ('Histogram of random numbers', size=14)\n",
        "  ax.set_xlabel ('random value')\n",
        "  ax.set_ylabel ('events in bin')\n",
        "  ax.hist (randlist,      # list of numbers\n",
        "             bins = bin_edges,\n",
        "             color = 'orange',\n",
        "             # normed = True,\n",
        "            )\n",
        "\n",
        "  plt.show()\n",
        "\n",
        "if __name__ == \"__main__\":\n",
        "  main ()"
      ],
      "metadata": {
        "id": "7MKkvPaS5ZF0",
        "outputId": "a4457c9b-1e21-4e89-e266-eeba84530b2a",
        "colab": {
          "base_uri": "https://localhost:8080/",
          "height": 358
        }
      },
      "execution_count": null,
      "outputs": [
        {
          "output_type": "error",
          "ename": "KeyboardInterrupt",
          "evalue": "ignored",
          "traceback": [
            "\u001b[0;31m---------------------------------------------------------------------------\u001b[0m",
            "\u001b[0;31mKeyboardInterrupt\u001b[0m                         Traceback (most recent call last)",
            "\u001b[0;32m<ipython-input-50-6eda22ddf5ff>\u001b[0m in \u001b[0;36m<cell line: 91>\u001b[0;34m()\u001b[0m\n\u001b[1;32m     90\u001b[0m \u001b[0;34m\u001b[0m\u001b[0m\n\u001b[1;32m     91\u001b[0m \u001b[0;32mif\u001b[0m \u001b[0m__name__\u001b[0m \u001b[0;34m==\u001b[0m \u001b[0;34m\"__main__\"\u001b[0m\u001b[0;34m:\u001b[0m\u001b[0;34m\u001b[0m\u001b[0;34m\u001b[0m\u001b[0m\n\u001b[0;32m---> 92\u001b[0;31m   \u001b[0mmain\u001b[0m \u001b[0;34m(\u001b[0m\u001b[0;34m)\u001b[0m\u001b[0;34m\u001b[0m\u001b[0;34m\u001b[0m\u001b[0m\n\u001b[0m",
            "\u001b[0;32m<ipython-input-50-6eda22ddf5ff>\u001b[0m in \u001b[0;36mmain\u001b[0;34m()\u001b[0m\n\u001b[1;32m     69\u001b[0m   \u001b[0;31m#definizione della funzione (densità di prob) da inserire in generate_TAC\u001b[0m\u001b[0;34m\u001b[0m\u001b[0;34m\u001b[0m\u001b[0m\n\u001b[1;32m     70\u001b[0m \u001b[0;34m\u001b[0m\u001b[0m\n\u001b[0;32m---> 71\u001b[0;31m   \u001b[0mrandlist\u001b[0m \u001b[0;34m=\u001b[0m \u001b[0mgenerate_TAC\u001b[0m \u001b[0;34m(\u001b[0m\u001b[0mfunc\u001b[0m\u001b[0;34m,\u001b[0m \u001b[0mxMin\u001b[0m\u001b[0;34m,\u001b[0m \u001b[0mxMax\u001b[0m\u001b[0;34m,\u001b[0m \u001b[0myMax\u001b[0m\u001b[0;34m,\u001b[0m \u001b[0mN\u001b[0m\u001b[0;34m,\u001b[0m \u001b[0mseed\u001b[0m\u001b[0;34m)\u001b[0m\u001b[0;34m\u001b[0m\u001b[0;34m\u001b[0m\u001b[0m\n\u001b[0m\u001b[1;32m     72\u001b[0m \u001b[0;34m\u001b[0m\u001b[0m\n\u001b[1;32m     73\u001b[0m     \u001b[0;31m# plotting of the generated list of numbers in a histogram:\u001b[0m\u001b[0;34m\u001b[0m\u001b[0;34m\u001b[0m\u001b[0m\n",
            "\u001b[0;32m<ipython-input-50-6eda22ddf5ff>\u001b[0m in \u001b[0;36mgenerate_TAC\u001b[0;34m(f, xMin, xMax, yMax, N, seed)\u001b[0m\n\u001b[1;32m     48\u001b[0m     \u001b[0;32mfor\u001b[0m \u001b[0mi\u001b[0m \u001b[0;32min\u001b[0m \u001b[0mrange\u001b[0m \u001b[0;34m(\u001b[0m\u001b[0mN\u001b[0m\u001b[0;34m)\u001b[0m\u001b[0;34m:\u001b[0m\u001b[0;34m\u001b[0m\u001b[0;34m\u001b[0m\u001b[0m\n\u001b[1;32m     49\u001b[0m         \u001b[0;31m# Return the next random floating point number in the range 0.0 <= X < 1.0\u001b[0m\u001b[0;34m\u001b[0m\u001b[0;34m\u001b[0m\u001b[0m\n\u001b[0;32m---> 50\u001b[0;31m         \u001b[0mrandlist\u001b[0m\u001b[0;34m.\u001b[0m\u001b[0mappend\u001b[0m \u001b[0;34m(\u001b[0m\u001b[0mrand_TAC\u001b[0m \u001b[0;34m(\u001b[0m\u001b[0mf\u001b[0m\u001b[0;34m,\u001b[0m \u001b[0mxMin\u001b[0m\u001b[0;34m,\u001b[0m \u001b[0mxMax\u001b[0m\u001b[0;34m,\u001b[0m \u001b[0myMax\u001b[0m\u001b[0;34m)\u001b[0m\u001b[0;34m)\u001b[0m\u001b[0;34m\u001b[0m\u001b[0;34m\u001b[0m\u001b[0m\n\u001b[0m\u001b[1;32m     51\u001b[0m     \u001b[0;32mreturn\u001b[0m \u001b[0mrandlist\u001b[0m\u001b[0;34m\u001b[0m\u001b[0;34m\u001b[0m\u001b[0m\n\u001b[1;32m     52\u001b[0m \u001b[0;31m#**********************************************************************************\u001b[0m\u001b[0;34m\u001b[0m\u001b[0;34m\u001b[0m\u001b[0m\n",
            "\u001b[0;32m<ipython-input-50-6eda22ddf5ff>\u001b[0m in \u001b[0;36mrand_TAC\u001b[0;34m(f, xMin, xMax, yMax)\u001b[0m\n\u001b[1;32m     29\u001b[0m     \u001b[0mx\u001b[0m \u001b[0;34m=\u001b[0m \u001b[0mrand_range\u001b[0m \u001b[0;34m(\u001b[0m\u001b[0mxMin\u001b[0m\u001b[0;34m,\u001b[0m \u001b[0mxMax\u001b[0m\u001b[0;34m)\u001b[0m\u001b[0;34m\u001b[0m\u001b[0;34m\u001b[0m\u001b[0m\n\u001b[1;32m     30\u001b[0m     \u001b[0my\u001b[0m \u001b[0;34m=\u001b[0m \u001b[0mrand_range\u001b[0m \u001b[0;34m(\u001b[0m\u001b[0;36m0\u001b[0m\u001b[0;34m,\u001b[0m \u001b[0myMax\u001b[0m\u001b[0;34m)\u001b[0m\u001b[0;34m\u001b[0m\u001b[0;34m\u001b[0m\u001b[0m\n\u001b[0;32m---> 31\u001b[0;31m     \u001b[0;32mwhile\u001b[0m \u001b[0;34m(\u001b[0m\u001b[0my\u001b[0m \u001b[0;34m>\u001b[0m \u001b[0mf\u001b[0m \u001b[0;34m(\u001b[0m\u001b[0mx\u001b[0m\u001b[0;34m)\u001b[0m\u001b[0;34m)\u001b[0m \u001b[0;34m:\u001b[0m\u001b[0;34m\u001b[0m\u001b[0;34m\u001b[0m\u001b[0m\n\u001b[0m\u001b[1;32m     32\u001b[0m         \u001b[0mx\u001b[0m \u001b[0;34m=\u001b[0m \u001b[0mrand_range\u001b[0m \u001b[0;34m(\u001b[0m\u001b[0mxMin\u001b[0m\u001b[0;34m,\u001b[0m \u001b[0mxMax\u001b[0m\u001b[0;34m)\u001b[0m\u001b[0;34m\u001b[0m\u001b[0;34m\u001b[0m\u001b[0m\n\u001b[1;32m     33\u001b[0m         \u001b[0my\u001b[0m \u001b[0;34m=\u001b[0m \u001b[0mrand_range\u001b[0m \u001b[0;34m(\u001b[0m\u001b[0;36m0\u001b[0m\u001b[0;34m,\u001b[0m \u001b[0myMax\u001b[0m\u001b[0;34m)\u001b[0m\u001b[0;34m\u001b[0m\u001b[0;34m\u001b[0m\u001b[0m\n",
            "\u001b[0;32m<ipython-input-50-6eda22ddf5ff>\u001b[0m in \u001b[0;36mfunc\u001b[0;34m(x)\u001b[0m\n\u001b[1;32m     55\u001b[0m \u001b[0;34m\u001b[0m\u001b[0m\n\u001b[1;32m     56\u001b[0m \u001b[0;32mdef\u001b[0m \u001b[0mfunc\u001b[0m \u001b[0;34m(\u001b[0m\u001b[0mx\u001b[0m\u001b[0;34m)\u001b[0m \u001b[0;34m:\u001b[0m\u001b[0;34m\u001b[0m\u001b[0;34m\u001b[0m\u001b[0m\n\u001b[0;32m---> 57\u001b[0;31m  \u001b[0mnormal\u001b[0m \u001b[0;34m=\u001b[0m \u001b[0mnorm\u001b[0m\u001b[0;34m(\u001b[0m\u001b[0;36m100.\u001b[0m\u001b[0;34m,\u001b[0m\u001b[0;36m10.\u001b[0m\u001b[0;34m)\u001b[0m \u001b[0;31m#media 0, sigma 1\u001b[0m\u001b[0;34m\u001b[0m\u001b[0;34m\u001b[0m\u001b[0m\n\u001b[0m\u001b[1;32m     58\u001b[0m  \u001b[0;32mreturn\u001b[0m \u001b[0mnormal\u001b[0m\u001b[0;34m.\u001b[0m\u001b[0mpdf\u001b[0m\u001b[0;34m(\u001b[0m\u001b[0mx\u001b[0m\u001b[0;34m)\u001b[0m\u001b[0;34m\u001b[0m\u001b[0;34m\u001b[0m\u001b[0m\n\u001b[1;32m     59\u001b[0m \u001b[0;34m\u001b[0m\u001b[0m\n",
            "\u001b[0;32m/usr/local/lib/python3.10/dist-packages/scipy/stats/_distn_infrastructure.py\u001b[0m in \u001b[0;36m__call__\u001b[0;34m(self, *args, **kwds)\u001b[0m\n\u001b[1;32m    847\u001b[0m \u001b[0;34m\u001b[0m\u001b[0m\n\u001b[1;32m    848\u001b[0m     \u001b[0;32mdef\u001b[0m \u001b[0m__call__\u001b[0m\u001b[0;34m(\u001b[0m\u001b[0mself\u001b[0m\u001b[0;34m,\u001b[0m \u001b[0;34m*\u001b[0m\u001b[0margs\u001b[0m\u001b[0;34m,\u001b[0m \u001b[0;34m**\u001b[0m\u001b[0mkwds\u001b[0m\u001b[0;34m)\u001b[0m\u001b[0;34m:\u001b[0m\u001b[0;34m\u001b[0m\u001b[0;34m\u001b[0m\u001b[0m\n\u001b[0;32m--> 849\u001b[0;31m         \u001b[0;32mreturn\u001b[0m \u001b[0mself\u001b[0m\u001b[0;34m.\u001b[0m\u001b[0mfreeze\u001b[0m\u001b[0;34m(\u001b[0m\u001b[0;34m*\u001b[0m\u001b[0margs\u001b[0m\u001b[0;34m,\u001b[0m \u001b[0;34m**\u001b[0m\u001b[0mkwds\u001b[0m\u001b[0;34m)\u001b[0m\u001b[0;34m\u001b[0m\u001b[0;34m\u001b[0m\u001b[0m\n\u001b[0m\u001b[1;32m    850\u001b[0m     \u001b[0m__call__\u001b[0m\u001b[0;34m.\u001b[0m\u001b[0m__doc__\u001b[0m \u001b[0;34m=\u001b[0m \u001b[0mfreeze\u001b[0m\u001b[0;34m.\u001b[0m\u001b[0m__doc__\u001b[0m\u001b[0;34m\u001b[0m\u001b[0;34m\u001b[0m\u001b[0m\n\u001b[1;32m    851\u001b[0m \u001b[0;34m\u001b[0m\u001b[0m\n",
            "\u001b[0;32m/usr/local/lib/python3.10/dist-packages/scipy/stats/_distn_infrastructure.py\u001b[0m in \u001b[0;36mfreeze\u001b[0;34m(self, *args, **kwds)\u001b[0m\n\u001b[1;32m    842\u001b[0m         \"\"\"\n\u001b[1;32m    843\u001b[0m         \u001b[0;32mif\u001b[0m \u001b[0misinstance\u001b[0m\u001b[0;34m(\u001b[0m\u001b[0mself\u001b[0m\u001b[0;34m,\u001b[0m \u001b[0mrv_continuous\u001b[0m\u001b[0;34m)\u001b[0m\u001b[0;34m:\u001b[0m\u001b[0;34m\u001b[0m\u001b[0;34m\u001b[0m\u001b[0m\n\u001b[0;32m--> 844\u001b[0;31m             \u001b[0;32mreturn\u001b[0m \u001b[0mrv_continuous_frozen\u001b[0m\u001b[0;34m(\u001b[0m\u001b[0mself\u001b[0m\u001b[0;34m,\u001b[0m \u001b[0;34m*\u001b[0m\u001b[0margs\u001b[0m\u001b[0;34m,\u001b[0m \u001b[0;34m**\u001b[0m\u001b[0mkwds\u001b[0m\u001b[0;34m)\u001b[0m\u001b[0;34m\u001b[0m\u001b[0;34m\u001b[0m\u001b[0m\n\u001b[0m\u001b[1;32m    845\u001b[0m         \u001b[0;32melse\u001b[0m\u001b[0;34m:\u001b[0m\u001b[0;34m\u001b[0m\u001b[0;34m\u001b[0m\u001b[0m\n\u001b[1;32m    846\u001b[0m             \u001b[0;32mreturn\u001b[0m \u001b[0mrv_discrete_frozen\u001b[0m\u001b[0;34m(\u001b[0m\u001b[0mself\u001b[0m\u001b[0;34m,\u001b[0m \u001b[0;34m*\u001b[0m\u001b[0margs\u001b[0m\u001b[0;34m,\u001b[0m \u001b[0;34m**\u001b[0m\u001b[0mkwds\u001b[0m\u001b[0;34m)\u001b[0m\u001b[0;34m\u001b[0m\u001b[0;34m\u001b[0m\u001b[0m\n",
            "\u001b[0;32m/usr/local/lib/python3.10/dist-packages/scipy/stats/_distn_infrastructure.py\u001b[0m in \u001b[0;36m__init__\u001b[0;34m(self, dist, *args, **kwds)\u001b[0m\n\u001b[1;32m    461\u001b[0m \u001b[0;34m\u001b[0m\u001b[0m\n\u001b[1;32m    462\u001b[0m         \u001b[0;31m# create a new instance\u001b[0m\u001b[0;34m\u001b[0m\u001b[0;34m\u001b[0m\u001b[0m\n\u001b[0;32m--> 463\u001b[0;31m         \u001b[0mself\u001b[0m\u001b[0;34m.\u001b[0m\u001b[0mdist\u001b[0m \u001b[0;34m=\u001b[0m \u001b[0mdist\u001b[0m\u001b[0;34m.\u001b[0m\u001b[0m__class__\u001b[0m\u001b[0;34m(\u001b[0m\u001b[0;34m**\u001b[0m\u001b[0mdist\u001b[0m\u001b[0;34m.\u001b[0m\u001b[0m_updated_ctor_param\u001b[0m\u001b[0;34m(\u001b[0m\u001b[0;34m)\u001b[0m\u001b[0;34m)\u001b[0m\u001b[0;34m\u001b[0m\u001b[0;34m\u001b[0m\u001b[0m\n\u001b[0m\u001b[1;32m    464\u001b[0m \u001b[0;34m\u001b[0m\u001b[0m\n\u001b[1;32m    465\u001b[0m         \u001b[0mshapes\u001b[0m\u001b[0;34m,\u001b[0m \u001b[0m_\u001b[0m\u001b[0;34m,\u001b[0m \u001b[0m_\u001b[0m \u001b[0;34m=\u001b[0m \u001b[0mself\u001b[0m\u001b[0;34m.\u001b[0m\u001b[0mdist\u001b[0m\u001b[0;34m.\u001b[0m\u001b[0m_parse_args\u001b[0m\u001b[0;34m(\u001b[0m\u001b[0;34m*\u001b[0m\u001b[0margs\u001b[0m\u001b[0;34m,\u001b[0m \u001b[0;34m**\u001b[0m\u001b[0mkwds\u001b[0m\u001b[0;34m)\u001b[0m\u001b[0;34m\u001b[0m\u001b[0;34m\u001b[0m\u001b[0m\n",
            "\u001b[0;32m/usr/local/lib/python3.10/dist-packages/scipy/stats/_distn_infrastructure.py\u001b[0m in \u001b[0;36m__init__\u001b[0;34m(self, momtype, a, b, xtol, badvalue, name, longname, shapes, seed)\u001b[0m\n\u001b[1;32m   1843\u001b[0m             \u001b[0;32melse\u001b[0m\u001b[0;34m:\u001b[0m\u001b[0;34m\u001b[0m\u001b[0;34m\u001b[0m\u001b[0m\n\u001b[1;32m   1844\u001b[0m                 \u001b[0mdct\u001b[0m \u001b[0;34m=\u001b[0m \u001b[0mdict\u001b[0m\u001b[0;34m(\u001b[0m\u001b[0mdistcont\u001b[0m\u001b[0;34m)\u001b[0m\u001b[0;34m\u001b[0m\u001b[0;34m\u001b[0m\u001b[0m\n\u001b[0;32m-> 1845\u001b[0;31m                 \u001b[0mself\u001b[0m\u001b[0;34m.\u001b[0m\u001b[0m_construct_doc\u001b[0m\u001b[0;34m(\u001b[0m\u001b[0mdocdict\u001b[0m\u001b[0;34m,\u001b[0m \u001b[0mdct\u001b[0m\u001b[0;34m.\u001b[0m\u001b[0mget\u001b[0m\u001b[0;34m(\u001b[0m\u001b[0mself\u001b[0m\u001b[0;34m.\u001b[0m\u001b[0mname\u001b[0m\u001b[0;34m)\u001b[0m\u001b[0;34m)\u001b[0m\u001b[0;34m\u001b[0m\u001b[0;34m\u001b[0m\u001b[0m\n\u001b[0m\u001b[1;32m   1846\u001b[0m \u001b[0;34m\u001b[0m\u001b[0m\n\u001b[1;32m   1847\u001b[0m     \u001b[0;32mdef\u001b[0m \u001b[0m__getstate__\u001b[0m\u001b[0;34m(\u001b[0m\u001b[0mself\u001b[0m\u001b[0;34m)\u001b[0m\u001b[0;34m:\u001b[0m\u001b[0;34m\u001b[0m\u001b[0;34m\u001b[0m\u001b[0m\n",
            "\u001b[0;32m/usr/local/lib/python3.10/dist-packages/scipy/stats/_distn_infrastructure.py\u001b[0m in \u001b[0;36m_construct_doc\u001b[0;34m(self, docdict, shapes_vals)\u001b[0m\n\u001b[1;32m    807\u001b[0m                 \u001b[0mself\u001b[0m\u001b[0;34m.\u001b[0m\u001b[0m__doc__\u001b[0m \u001b[0;34m=\u001b[0m \u001b[0mself\u001b[0m\u001b[0;34m.\u001b[0m\u001b[0m__doc__\u001b[0m\u001b[0;34m.\u001b[0m\u001b[0mreplace\u001b[0m\u001b[0;34m(\u001b[0m\u001b[0;34m\"%(shapes)s, \"\u001b[0m\u001b[0;34m,\u001b[0m \u001b[0;34m\"\"\u001b[0m\u001b[0;34m)\u001b[0m\u001b[0;34m\u001b[0m\u001b[0;34m\u001b[0m\u001b[0m\n\u001b[1;32m    808\u001b[0m             \u001b[0;32mtry\u001b[0m\u001b[0;34m:\u001b[0m\u001b[0;34m\u001b[0m\u001b[0;34m\u001b[0m\u001b[0m\n\u001b[0;32m--> 809\u001b[0;31m                 \u001b[0mself\u001b[0m\u001b[0;34m.\u001b[0m\u001b[0m__doc__\u001b[0m \u001b[0;34m=\u001b[0m \u001b[0mdoccer\u001b[0m\u001b[0;34m.\u001b[0m\u001b[0mdocformat\u001b[0m\u001b[0;34m(\u001b[0m\u001b[0mself\u001b[0m\u001b[0;34m.\u001b[0m\u001b[0m__doc__\u001b[0m\u001b[0;34m,\u001b[0m \u001b[0mtempdict\u001b[0m\u001b[0;34m)\u001b[0m\u001b[0;34m\u001b[0m\u001b[0;34m\u001b[0m\u001b[0m\n\u001b[0m\u001b[1;32m    810\u001b[0m             \u001b[0;32mexcept\u001b[0m \u001b[0mTypeError\u001b[0m \u001b[0;32mas\u001b[0m \u001b[0me\u001b[0m\u001b[0;34m:\u001b[0m\u001b[0;34m\u001b[0m\u001b[0;34m\u001b[0m\u001b[0m\n\u001b[1;32m    811\u001b[0m                 raise Exception(\"Unable to construct docstring for \"\n",
            "\u001b[0;32m/usr/local/lib/python3.10/dist-packages/scipy/_lib/doccer.py\u001b[0m in \u001b[0;36mdocformat\u001b[0;34m(docstring, docdict)\u001b[0m\n\u001b[1;32m     63\u001b[0m             \u001b[0mnewlines\u001b[0m \u001b[0;34m=\u001b[0m \u001b[0;34m[\u001b[0m\u001b[0mlines\u001b[0m\u001b[0;34m[\u001b[0m\u001b[0;36m0\u001b[0m\u001b[0;34m]\u001b[0m\u001b[0;34m]\u001b[0m\u001b[0;34m\u001b[0m\u001b[0;34m\u001b[0m\u001b[0m\n\u001b[1;32m     64\u001b[0m             \u001b[0;32mfor\u001b[0m \u001b[0mline\u001b[0m \u001b[0;32min\u001b[0m \u001b[0mlines\u001b[0m\u001b[0;34m[\u001b[0m\u001b[0;36m1\u001b[0m\u001b[0;34m:\u001b[0m\u001b[0;34m]\u001b[0m\u001b[0;34m:\u001b[0m\u001b[0;34m\u001b[0m\u001b[0;34m\u001b[0m\u001b[0m\n\u001b[0;32m---> 65\u001b[0;31m                 \u001b[0mnewlines\u001b[0m\u001b[0;34m.\u001b[0m\u001b[0mappend\u001b[0m\u001b[0;34m(\u001b[0m\u001b[0mindent\u001b[0m\u001b[0;34m+\u001b[0m\u001b[0mline\u001b[0m\u001b[0;34m)\u001b[0m\u001b[0;34m\u001b[0m\u001b[0;34m\u001b[0m\u001b[0m\n\u001b[0m\u001b[1;32m     66\u001b[0m             \u001b[0mindented\u001b[0m\u001b[0;34m[\u001b[0m\u001b[0mname\u001b[0m\u001b[0;34m]\u001b[0m \u001b[0;34m=\u001b[0m \u001b[0;34m'\\n'\u001b[0m\u001b[0;34m.\u001b[0m\u001b[0mjoin\u001b[0m\u001b[0;34m(\u001b[0m\u001b[0mnewlines\u001b[0m\u001b[0;34m)\u001b[0m\u001b[0;34m\u001b[0m\u001b[0;34m\u001b[0m\u001b[0m\n\u001b[1;32m     67\u001b[0m         \u001b[0;32mexcept\u001b[0m \u001b[0mIndexError\u001b[0m\u001b[0;34m:\u001b[0m\u001b[0;34m\u001b[0m\u001b[0;34m\u001b[0m\u001b[0m\n",
            "\u001b[0;31mKeyboardInterrupt\u001b[0m: "
          ]
        }
      ]
    },
    {
      "cell_type": "markdown",
      "source": [
        "#esercizio5: SOLUZIONE"
      ],
      "metadata": {
        "id": "Qny1JnGAvz8q"
      }
    },
    {
      "cell_type": "markdown",
      "source": [
        "#esercizio 6: soluzione\n",
        "##Generatore di numeri psc che sfrutti il **metodo della funzione inversa**"
      ],
      "metadata": {
        "id": "h2J3BBdntlC0"
      }
    },
    {
      "cell_type": "code",
      "source": [
        "'''\n",
        "Si implementi un GENERATORE di numeri pseduo-casuali che utilizzi il metodo della FUNZIONE INVERSA\n",
        "per generare eventi distribuiti secondo DISTRIBUZIONE di probabilita' ESPONENZIALE.\n",
        "Si utilizzi la libreria MatPlotLib per visualizzare la distribuzione dei numeri generati.\n",
        "python3 es_4.6.py 100 2.4\n",
        "'''\n",
        "\n",
        "#import sys\n",
        "import random\n",
        "import matplotlib.pyplot as plt\n",
        "import numpy as np\n",
        "from math import floor\n",
        "\n",
        "\n",
        "def inv_exp (y, lamb = 1) :\n",
        "    '''\n",
        "    Inverse of the primitive of the exponential PDF.\n",
        "    pdf(x) = lambda * exp(-lambda x) x >= 0, 0 otherwise.\n",
        "    F(x) = int_{0}^{x} pdf(x)dx = 1 - exp(-lambda * x) for x >= 0, 0 otherwise.\n",
        "    F^{-1}(y) = - (ln(1-y)) / lambda\n",
        "    '''\n",
        "    return -1 * np.log (1-y) / lamb #INVERSA della primitiva della funzione expon\n",
        "\n",
        "#C'È DA CAPIRE COME IMPLEMENTARE ANALITICAMENTE (RICAVARE) QUESTE FUNZIONI INVERSE\n",
        "\n",
        "# ---- ---- ---- ---- ---- ---- ---- ---- ---- ---- ---- ---- ----\n",
        "\n",
        "\n",
        "def main () :\n",
        "    '''\n",
        "    Funzione che implementa il programma principale\n",
        "    '''\n",
        "\n",
        "\n",
        "\n",
        "    tau  = float (2) #metterlo come input, deve essere un valore positivo\n",
        "    lamb = 1./tau\n",
        "\n",
        "    N    = int (10000) #metterlo come input\n",
        "    seed = 10        #metterlo come input\n",
        "\n",
        "    random.seed (seed)\n",
        "    randlist = []\n",
        "    for i in range (N):\n",
        "        randlist.append (inv_exp (random.random (), lamb)) #random.random è un numero pseudo casuale passato alla funzione inversa\n",
        "\n",
        "    # plotting of the generated list of numbers in a histogram. SI ORA TRATTA SOLO DI PLOTTARE\n",
        "\n",
        "    nBins = floor (len (randlist) / 100.)        # number of bins of the hitogram\n",
        "    bin_edges = np.linspace (0., 3., nBins + 1)  # edges o the histogram bins\n",
        "\n",
        "    # disegno della funzione\n",
        "    fig, ax = plt.subplots ()\n",
        "    ax.set_title ('Istogramma di numeri random of con andamento exp', size=10)\n",
        "    ax.set_xlabel ('random value')\n",
        "    ax.set_ylabel ('events in bin')\n",
        "    ax.hist (randlist,      # list of numbers\n",
        "             bins = bin_edges,\n",
        "             color = 'orange',\n",
        "             # normed = True,\n",
        "            )\n",
        "\n",
        "    plt.savefig ('es_4.6.png')\n",
        "\n",
        "\n",
        "# ---- ---- ---- ---- ---- ---- ---- ---- ---- ---- ---- ---- ----\n",
        "\n",
        "\n",
        "if __name__ == \"__main__\":\n",
        "    main ()\n"
      ],
      "metadata": {
        "id": "462Xlo_0tuEp",
        "outputId": "3f61f805-bdf7-4e34-9137-1dd1a67c8d99",
        "colab": {
          "base_uri": "https://localhost:8080/",
          "height": 469
        }
      },
      "execution_count": 15,
      "outputs": [
        {
          "output_type": "display_data",
          "data": {
            "text/plain": [
              "<Figure size 640x480 with 1 Axes>"
            ],
            "image/png": "[encoded data removed]"
          },
          "metadata": {}
        }
      ]
    },
    {
      "cell_type": "markdown",
      "source": [
        "#esercizio 4.7\n",
        "##generatore pseudocasauali tramite TCL"
      ],
      "metadata": {
        "id": "seXJsvo2wleT"
      }
    },
    {
      "cell_type": "code",
      "source": [
        "#Implement a pseudo-random number generator that uses the CENTRAL LIMIT THEOREM METHOD to generate events\n",
        "# distributed according to a GAUSSIAN probability distribution.\n",
        "\n",
        "#How can you obtain a normal distribution, i.e., a Gaussian distribution centered at zero with unit variance?\n",
        "\n",
        "#Visually verify that as the number of events increases, the similarity between the obtained distribution and\n",
        "# the Gaussian functional form increases,\n",
        "#both graphically and by using the moments of the distributions calculated on the generated event sample.\n",
        "\n",
        "#1:Implemnta un generatore di numeri pseucocasuali che sfrutti il  teo centrale del limite per generare\n",
        "#eventi secondo una distribuzione di probabilità gaussiana.\n",
        "#2:come puoi ottenere una distribuzione normale (gaussiana di default) quindi centrata in zero e varianza 1?\n",
        "#3:visualizza grafricamente   che aumentando il numero degli eveneti la distribuzione ottenuta e la funzione gaussiana coincidono.\n",
        "#usando i momenti della distribuzione calcolata.\n",
        "\n",
        "\n"
      ],
      "metadata": {
        "id": "CplizRCIwnKk"
      },
      "execution_count": null,
      "outputs": []
    }
  ],
  "metadata": {
    "kernelspec": {
      "display_name": "Python 3 (ipykernel)",
      "language": "python",
      "name": "python3"
    },
    "language_info": {
      "codemirror_mode": {
        "name": "ipython",
        "version": 3
      },
      "file_extension": ".py",
      "mimetype": "text/x-python",
      "name": "python",
      "nbconvert_exporter": "python",
      "pygments_lexer": "ipython3",
      "version": "3.8.10"
    },
    "colab": {
      "provenance": []
    }
  },
  "nbformat": 4,
  "nbformat_minor": 0
}