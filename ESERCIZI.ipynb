{
  "cells": [
    {
      "cell_type": "markdown",
      "metadata": {
        "id": "-BX-fRZrGMrm"
      },
      "source": [
        "##ESERCIZIO1: generatore lineare congruenziale\n"
      ]
    },
    {
      "cell_type": "code",
      "execution_count": 30,
      "metadata": {
        "colab": {
          "base_uri": "https://localhost:8080/"
        },
        "id": "ohY-3S2kGMrp",
        "outputId": "8dd21c41-b9ff-4dc3-e9d4-acfd45cc98fe"
      },
      "outputs": [
        {
          "output_type": "stream",
          "name": "stdout",
          "text": [
            "825883882\n",
            "1248203142\n",
            "1915742233\n",
            "462124094\n",
            "354381295\n",
            "1674140394\n",
            "1639006653\n",
            "901942167\n",
            "783906587\n",
            "485463708\n"
          ]
        }
      ],
      "source": [
        "#Write a function that implements the linear congruential generator (LCG) for pseudo-random numbers, using these parameters:\n",
        "\n",
        "import random\n",
        "\n",
        "#si basa chiaramente su una scrittura di ricorrenza\n",
        "\n",
        "#def seedLCG(initVal):\n",
        "    #global rand\n",
        "    #rand = initVal\n",
        "#seedLCG(1)\n",
        "random.seed(1)\n",
        "\n",
        "def lcg():\n",
        "    M = 2147483647\n",
        "    A = 214013\n",
        "    C = 2531011\n",
        "    global rand\n",
        "    rand = (A*rand + C) % M\n",
        "    return rand\n",
        "\n",
        "\n",
        "for i in range(10):\n",
        "    print(lcg())\n",
        "\n",
        "#the first element of the sequence, with index zero, is the seed\n",
        "#This algorithm generates by construction numbers between 0 and M\n",
        "#QUINDI GENERA UNA SEQUENZA PSEUDOCASUALE DI NUMERI  INTERI"
      ]
    },
    {
      "cell_type": "markdown",
      "source": [
        "#esercizio 2: si basa sulla lezione 5 (...)"
      ],
      "metadata": {
        "id": "6axiL37YHQmG"
      }
    },
    {
      "cell_type": "code",
      "source": [],
      "metadata": {
        "id": "HpFCp9G-HTpq"
      },
      "execution_count": null,
      "outputs": []
    },
    {
      "cell_type": "markdown",
      "source": [
        "#ESERCIZIO3:"
      ],
      "metadata": {
        "id": "JgKsTugzHWQS"
      }
    },
    {
      "cell_type": "code",
      "source": [
        "#Show that initializing the seed of a pseudo-random integer generator is equivalent to looking into a sequence of pseudo-random numbers at any point.\n",
        "\n",
        "import random\n",
        "\n",
        "randlist = []\n",
        "\n",
        "M = 2147483647\n",
        "random.seed(1)\n",
        "for i in range (5):\n",
        "    # Return the next random floating point number in the range 0.0 <= X < 1.0\n",
        "    randlist.append (random.randint (0,M))\n",
        "    print (i, randlist[-1])\n",
        "\n"
      ],
      "metadata": {
        "colab": {
          "base_uri": "https://localhost:8080/"
        },
        "id": "WUcvV8r9LcpA",
        "outputId": "078d35ec-c1f2-4ea6-e5bb-c65f18a5a057"
      },
      "execution_count": 25,
      "outputs": [
        {
          "output_type": "stream",
          "name": "stdout",
          "text": [
            "0 577090037\n",
            "1 271041745\n",
            "2 1095513148\n",
            "3 506456969\n",
            "4 2127877499\n"
          ]
        }
      ]
    },
    {
      "cell_type": "markdown",
      "source": [
        "#ESERCIZIO4:"
      ],
      "metadata": {
        "id": "-Lf5teW6Nzg5"
      }
    },
    {
      "cell_type": "code",
      "source": [
        "#Implement a pseudo-random number generator according to a uniform distribution between two arbitrary endpoints.\n",
        "\n",
        "#Use the matplotlib library to visualize the distribution of the generated numbers.\n",
        "\n",
        "import random\n",
        "import matplotlib.pyplot as plt\n",
        "import numpy as np\n",
        "\n",
        "\n",
        "list1=[] #voglio creare un input sulle x con numeri casuali\n",
        "random.seed(1)\n",
        "\n",
        "xmin=-10   #2 arbitrary endpoints\n",
        "xmax=10\n",
        "\n",
        "fig, axes = plt.subplots(1,3)\n",
        "\n",
        "N=50\n",
        "for i in range(N):\n",
        "  list1.append(xmin+(xmax-xmin)*random.random())\n",
        "axes[0].hist(list1)\n",
        "\n",
        "\n",
        "list1=[]\n",
        "N=1000\n",
        "for i in range(N):\n",
        "  list1.append(xmin+(xmax-xmin)*random.random())\n",
        "axes[1].hist(list1)\n",
        "\n",
        "\n",
        "list1=[]\n",
        "N=200000\n",
        "for i in range(N):\n",
        "  list1.append(xmin+(xmax-xmin)*random.random())\n",
        "axes[2].hist(list1)\n",
        "\n",
        "plt.show()\n",
        "\n",
        "\n",
        "\n"
      ],
      "metadata": {
        "colab": {
          "base_uri": "https://localhost:8080/",
          "height": 430
        },
        "id": "Oh-5KFYHNr_A",
        "outputId": "1a7dc13f-e94a-401b-f389-49ea9b3d414d"
      },
      "execution_count": 52,
      "outputs": [
        {
          "output_type": "display_data",
          "data": {
            "text/plain": [
              "<Figure size 640x480 with 3 Axes>"
            ],
            "image/png": "[encoded data removed]"
          },
          "metadata": {}
        }
      ]
    },
    {
      "cell_type": "code",
      "source": [
        "#riscriviamolo meglio con una funzione ecc\n",
        "\n",
        "import random\n",
        "import matplotlib.pyplot as plt\n",
        "import numpy as np\n",
        "\n",
        "def rand_hist(a,b): #funzione cuore del programma che richiamo all'interno dei cicli\n",
        "   return b+(a-b)*random.random()\n",
        "\n",
        "xmin=-10\n",
        "xmax=10\n",
        "N=100\n",
        "\n",
        "list1=[]\n",
        "fig, axes = plt.subplots(1,3)\n",
        "\n",
        "for i in range(N):\n",
        "  list1.append(rand_hist(xmin,xmax))\n",
        "axes[0].hist(list1)\n",
        "\n",
        "N=N*10\n",
        "\n",
        "for i in range(N):\n",
        "  list1.append(rand_hist(xmin,xmax))\n",
        "axes[1].hist(list1)\n",
        "\n",
        "N=N*100\n",
        "\n",
        "for i in range(N):\n",
        "  list1.append(rand_hist(xmin,xmax))\n",
        "axes[2].hist(list1)\n"
      ],
      "metadata": {
        "colab": {
          "base_uri": "https://localhost:8080/",
          "height": 534
        },
        "id": "TwDUwjxETmAB",
        "outputId": "cb1b65ba-18ed-4c3e-cca2-c8b35dfb1bda"
      },
      "execution_count": 1,
      "outputs": [
        {
          "output_type": "execute_result",
          "data": {
            "text/plain": [
              "(array([10083., 10081., 10265., 10053., 10001., 10188., 10042., 10049.,\n",
              "        10032., 10306.]),\n",
              " array([-9.99922804e+00, -7.99932342e+00, -5.99941880e+00, -3.99951418e+00,\n",
              "        -1.99960957e+00,  2.95050190e-04,  2.00019967e+00,  4.00010429e+00,\n",
              "         6.00000890e+00,  7.99991352e+00,  9.99981814e+00]),\n",
              " <BarContainer object of 10 artists>)"
            ]
          },
          "metadata": {},
          "execution_count": 1
        },
        {
          "output_type": "display_data",
          "data": {
            "text/plain": [
              "<Figure size 640x480 with 3 Axes>"
            ],
            "image/png": "[encoded data removed]"
          },
          "metadata": {}
        }
      ]
    },
    {
      "cell_type": "markdown",
      "source": [
        "#ESERCIZIO 5:"
      ],
      "metadata": {
        "id": "0IKv1vktV4tc"
      }
    },
    {
      "cell_type": "code",
      "source": [
        "#implement a pseudo-random number generator that uses the try-and-catch method to generate pseudo-random numbers according to an arbitrary probability distribution.\n",
        "\n",
        "#Take the probability density function (pdf) as an input parameter for generating random numbers.\n",
        "\n",
        "#Use the matplotlib library to visualize the distribution of the generated numbers.\n",
        "\n",
        "import random\n",
        "import numpy as np\n",
        "import matplotlib.pyplot as plt\n",
        "\n",
        "from scipy.stats import norm\n",
        "\n",
        "def main():\n",
        " xMin=0\n",
        " xMax=10\n",
        " yMax=1\n",
        "\n",
        "\n",
        " x = random.random(xMin, xMax) #generati i numeri casuali passato alla funzione pdf\n",
        " y = random.random(0, yMax)\n",
        " normal = norm(10.,1.) #media 100, sigma 10\n",
        "\n",
        " f=normal.pdf(x) #COSI DEFINISCO una pdf normale( gaussiana) da passare all'interno del TAC\n",
        "\n",
        "\n",
        " list1=[]\n",
        " while (y > f(x)) : #SELEZIONO I PUNTI IDONEI (al di sotto della pdf)\n",
        "        x = random.random(xMin, xMax) #generati i numeri casuali passato alla funzione pdf\n",
        "        y = random.random(0, yMax)\n",
        " list1.append(x)\n",
        "\n",
        "\n",
        "\n",
        "#plottiamo su matplotlib:\n",
        "\n",
        "fig, axes = plt.subplots(1,1)\n",
        "\n",
        "axes.hist(list1)\n",
        "plt.show()\n",
        "\n",
        "if __name__ == \"__name__\":\n",
        "  main()"
      ],
      "metadata": {
        "colab": {
          "base_uri": "https://localhost:8080/",
          "height": 430
        },
        "id": "XPLBldvWV-_x",
        "outputId": "c334c982-f17b-4ba5-fac9-a19b7315b1a5"
      },
      "execution_count": 31,
      "outputs": [
        {
          "output_type": "display_data",
          "data": {
            "text/plain": [
              "<Figure size 640x480 with 1 Axes>"
            ],
            "image/png": "[encoded data removed]"
          },
          "metadata": {}
        }
      ]
    },
    {
      "cell_type": "code",
      "source": [],
      "metadata": {
        "id": "49xto-bLbSZs"
      },
      "execution_count": null,
      "outputs": []
    }
  ],
  "metadata": {
    "kernelspec": {
      "display_name": "Python 3 (ipykernel)",
      "language": "python",
      "name": "python3"
    },
    "language_info": {
      "codemirror_mode": {
        "name": "ipython",
        "version": 3
      },
      "file_extension": ".py",
      "mimetype": "text/x-python",
      "name": "python",
      "nbconvert_exporter": "python",
      "pygments_lexer": "ipython3",
      "version": "3.8.10"
    },
    "colab": {
      "provenance": []
    }
  },
  "nbformat": 4,
  "nbformat_minor": 0
}