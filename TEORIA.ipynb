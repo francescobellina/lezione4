{
  "cells": [
    {
      "cell_type": "markdown",
      "metadata": {
        "id": "Y5XUkVhE8KHL"
      },
      "source": [
        "#Iniziamo a implementare noi degli algoritmi. ci basiamo sui numeri pseudocasuali:"
      ]
    },
    {
      "cell_type": "code",
      "execution_count": 12,
      "metadata": {
        "id": "JVFmi65a8KHQ",
        "outputId": "879909dd-24ed-4f59-ab74-09e0767989b4",
        "colab": {
          "base_uri": "https://localhost:8080/"
        }
      },
      "outputs": [
        {
          "output_type": "stream",
          "name": "stdout",
          "text": [
            "0 0.01982142437284884\n",
            "1 0.14784674575393852\n",
            "2 0.8735830263040941\n",
            "3 0.7025915174892277\n",
            "4 0.09597762552006817\n"
          ]
        }
      ],
      "source": [
        "#SEQUENZA DI NUMERI RANDOM UNIF COMPRESI TRA 0 E 1\n",
        "\n",
        "import random   #IMPORTO LA LIB RANDOM per usare LA FUNZIONE rand()\n",
        "\n",
        "randlist = []\n",
        "for i in range (5):\n",
        "    # Return the next random floating point number in the range 0.0 <= X < 1.0\n",
        "    randlist.append (random.random ())\n",
        "    print (i, randlist[-1])"
      ]
    },
    {
      "cell_type": "code",
      "source": [
        "#Se il seme non è specificato ad ogni iterazione il seme sarà diverso e quindi anche la generazione random,\n",
        "#questo perche di dafault random() si basa sul \"tempo corrente\"\n",
        "#FISSANDO IL SEME HO SEMPRE LA STESSA SEQUENZA RANDOM\n",
        "\n",
        "random.seed ( seed ) # seed can be any floating point number"
      ],
      "metadata": {
        "id": "UrWNySxL_5O2"
      },
      "execution_count": null,
      "outputs": []
    },
    {
      "cell_type": "code",
      "source": [
        "#SEQUENZA DI NUMERI RANDOM INTERI UNIF COMPRESI TRA 0 E 100\n",
        "randlistint = []\n",
        "for i in range (5):\n",
        "    # Return the next random floating point number in the range 0.0 <= X < 1.0\n",
        "    randlistint.append (random.randint (0, 100))\n",
        "    print (i, randlistint[-1])"
      ],
      "metadata": {
        "id": "iZ55Zz42AX8C",
        "outputId": "716d04e0-3224-438f-f7e5-2eb53c6cf9fc",
        "colab": {
          "base_uri": "https://localhost:8080/"
        }
      },
      "execution_count": 13,
      "outputs": [
        {
          "output_type": "stream",
          "name": "stdout",
          "text": [
            "0 64\n",
            "1 39\n",
            "2 47\n",
            "3 88\n",
            "4 73\n"
          ]
        }
      ]
    },
    {
      "cell_type": "markdown",
      "source": [
        "##RISCALING E TRASALZIONE:"
      ],
      "metadata": {
        "id": "JaAXPe4-BCPL"
      }
    },
    {
      "cell_type": "code",
      "source": [
        "import random\n",
        "\n",
        "\n",
        "random.random () #distrib uniforme di num cas, tra  0 e 1\n",
        "\n",
        "(max - min) * random.random ()   #avrò una riscalatura\n",
        "\n",
        "\n",
        "def rand_range (xMin, xMax) :\n",
        "    '''\n",
        "    generazione di un numero pseudo-casuale distribuito fra xMin ed xMax\n",
        "    '''\n",
        "    return xMin + random.random () * (xMax - xMin)   #xmin è il punto di partenza"
      ],
      "metadata": {
        "id": "ytysAj-iBFv5",
        "outputId": "f83fa953-9dbf-4a1b-8d6f-6585a4a6cf84",
        "colab": {
          "base_uri": "https://localhost:8080/",
          "height": 247
        }
      },
      "execution_count": 15,
      "outputs": [
        {
          "output_type": "error",
          "ename": "TypeError",
          "evalue": "ignored",
          "traceback": [
            "\u001b[0;31m---------------------------------------------------------------------------\u001b[0m",
            "\u001b[0;31mTypeError\u001b[0m                                 Traceback (most recent call last)",
            "\u001b[0;32m<ipython-input-15-688884fad5ee>\u001b[0m in \u001b[0;36m<cell line: 6>\u001b[0;34m()\u001b[0m\n\u001b[1;32m      4\u001b[0m \u001b[0mrandom\u001b[0m\u001b[0;34m.\u001b[0m\u001b[0mrandom\u001b[0m \u001b[0;34m(\u001b[0m\u001b[0;34m)\u001b[0m \u001b[0;31m#distrib uniforme di num cas, tra  0 e 1\u001b[0m\u001b[0;34m\u001b[0m\u001b[0;34m\u001b[0m\u001b[0m\n\u001b[1;32m      5\u001b[0m \u001b[0;34m\u001b[0m\u001b[0m\n\u001b[0;32m----> 6\u001b[0;31m \u001b[0;34m(\u001b[0m\u001b[0mmax\u001b[0m \u001b[0;34m-\u001b[0m \u001b[0mmin\u001b[0m\u001b[0;34m)\u001b[0m \u001b[0;34m*\u001b[0m \u001b[0mrandom\u001b[0m\u001b[0;34m.\u001b[0m\u001b[0mrandom\u001b[0m \u001b[0;34m(\u001b[0m\u001b[0;34m)\u001b[0m   \u001b[0;31m#avrò una riscalatura\u001b[0m\u001b[0;34m\u001b[0m\u001b[0;34m\u001b[0m\u001b[0m\n\u001b[0m\u001b[1;32m      7\u001b[0m \u001b[0;34m\u001b[0m\u001b[0m\n\u001b[1;32m      8\u001b[0m \u001b[0;34m\u001b[0m\u001b[0m\n",
            "\u001b[0;31mTypeError\u001b[0m: unsupported operand type(s) for -: 'builtin_function_or_method' and 'builtin_function_or_method'"
          ]
        }
      ]
    }
  ],
  "metadata": {
    "kernelspec": {
      "display_name": "Python 3 (ipykernel)",
      "language": "python",
      "name": "python3"
    },
    "language_info": {
      "codemirror_mode": {
        "name": "ipython",
        "version": 3
      },
      "file_extension": ".py",
      "mimetype": "text/x-python",
      "name": "python",
      "nbconvert_exporter": "python",
      "pygments_lexer": "ipython3",
      "version": "3.8.10"
    },
    "colab": {
      "provenance": []
    }
  },
  "nbformat": 4,
  "nbformat_minor": 0
}