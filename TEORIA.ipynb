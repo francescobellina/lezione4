{
  "cells": [
    {
      "cell_type": "markdown",
      "metadata": {
        "id": "Y5XUkVhE8KHL"
      },
      "source": [
        "#Iniziamo a implementare noi degli algoritmi. ci basiamo sui numeri pseudocasuali:"
      ]
    },
    {
      "cell_type": "code",
      "execution_count": 12,
      "metadata": {
        "colab": {
          "base_uri": "https://localhost:8080/"
        },
        "id": "JVFmi65a8KHQ",
        "outputId": "879909dd-24ed-4f59-ab74-09e0767989b4"
      },
      "outputs": [
        {
          "output_type": "stream",
          "name": "stdout",
          "text": [
            "0 0.01982142437284884\n",
            "1 0.14784674575393852\n",
            "2 0.8735830263040941\n",
            "3 0.7025915174892277\n",
            "4 0.09597762552006817\n"
          ]
        }
      ],
      "source": [
        "#SEQUENZA DI NUMERI RANDOM UNIF COMPRESI TRA 0 E 1\n",
        "\n",
        "import random   #IMPORTO LA LIB RANDOM per usare LA FUNZIONE rand()\n",
        "\n",
        "randlist = []\n",
        "for i in range (5):\n",
        "    # Return the next random floating point number in the range 0.0 <= X < 1.0\n",
        "    randlist.append (random.random ())\n",
        "    print (i, randlist[-1])"
      ]
    },
    {
      "cell_type": "code",
      "source": [
        "#Se il seme non è specificato ad ogni iterazione il seme sarà diverso e quindi anche la generazione random,\n",
        "#questo perche di dafault random() si basa sul \"tempo corrente\"\n",
        "#FISSANDO IL SEME HO SEMPRE LA STESSA SEQUENZA RANDOM\n",
        "\n",
        "random.seed ( seed ) # seed can be any floating point number"
      ],
      "metadata": {
        "id": "UrWNySxL_5O2"
      },
      "execution_count": null,
      "outputs": []
    },
    {
      "cell_type": "code",
      "source": [
        "#SEQUENZA DI NUMERI RANDOM INTERI UNIF COMPRESI TRA 0 E 100\n",
        "randlistint = []\n",
        "for i in range (5):\n",
        "    # Return the next random integer number in the range 0.0 <= X < 1.0\n",
        "    randlistint.append (random.randint (0, 100))\n",
        "    print (i, randlistint[-1])"
      ],
      "metadata": {
        "colab": {
          "base_uri": "https://localhost:8080/"
        },
        "id": "iZ55Zz42AX8C",
        "outputId": "716d04e0-3224-438f-f7e5-2eb53c6cf9fc"
      },
      "execution_count": 13,
      "outputs": [
        {
          "output_type": "stream",
          "name": "stdout",
          "text": [
            "0 64\n",
            "1 39\n",
            "2 47\n",
            "3 88\n",
            "4 73\n"
          ]
        }
      ]
    },
    {
      "cell_type": "markdown",
      "source": [
        "##RISCALING E TRASALZIONE:"
      ],
      "metadata": {
        "id": "JaAXPe4-BCPL"
      }
    },
    {
      "cell_type": "code",
      "source": [
        "import random\n",
        "\n",
        "\n",
        "random.random () #distrib uniforme di num cas, tra  0 e 1\n",
        "\n",
        "(max - min) * random.random ()   #avrò una riscalatura\n",
        "\n",
        "\n",
        "def rand_range (xMin, xMax) :\n",
        "    '''\n",
        "    generazione di un numero pseudo-casuale distribuito fra xMin ed xMax\n",
        "    '''\n",
        "    return xMin + random.random () * (xMax - xMin)   #xmin è il punto di partenza"
      ],
      "metadata": {
        "colab": {
          "base_uri": "https://localhost:8080/",
          "height": 247
        },
        "id": "ytysAj-iBFv5",
        "outputId": "f83fa953-9dbf-4a1b-8d6f-6585a4a6cf84"
      },
      "execution_count": 15,
      "outputs": [
        {
          "output_type": "error",
          "ename": "TypeError",
          "evalue": "ignored",
          "traceback": [
            "\u001b[0;31m---------------------------------------------------------------------------\u001b[0m",
            "\u001b[0;31mTypeError\u001b[0m                                 Traceback (most recent call last)",
            "\u001b[0;32m<ipython-input-15-688884fad5ee>\u001b[0m in \u001b[0;36m<cell line: 6>\u001b[0;34m()\u001b[0m\n\u001b[1;32m      4\u001b[0m \u001b[0mrandom\u001b[0m\u001b[0;34m.\u001b[0m\u001b[0mrandom\u001b[0m \u001b[0;34m(\u001b[0m\u001b[0;34m)\u001b[0m \u001b[0;31m#distrib uniforme di num cas, tra  0 e 1\u001b[0m\u001b[0;34m\u001b[0m\u001b[0;34m\u001b[0m\u001b[0m\n\u001b[1;32m      5\u001b[0m \u001b[0;34m\u001b[0m\u001b[0m\n\u001b[0;32m----> 6\u001b[0;31m \u001b[0;34m(\u001b[0m\u001b[0mmax\u001b[0m \u001b[0;34m-\u001b[0m \u001b[0mmin\u001b[0m\u001b[0;34m)\u001b[0m \u001b[0;34m*\u001b[0m \u001b[0mrandom\u001b[0m\u001b[0;34m.\u001b[0m\u001b[0mrandom\u001b[0m \u001b[0;34m(\u001b[0m\u001b[0;34m)\u001b[0m   \u001b[0;31m#avrò una riscalatura\u001b[0m\u001b[0;34m\u001b[0m\u001b[0;34m\u001b[0m\u001b[0m\n\u001b[0m\u001b[1;32m      7\u001b[0m \u001b[0;34m\u001b[0m\u001b[0m\n\u001b[1;32m      8\u001b[0m \u001b[0;34m\u001b[0m\u001b[0m\n",
            "\u001b[0;31mTypeError\u001b[0m: unsupported operand type(s) for -: 'builtin_function_or_method' and 'builtin_function_or_method'"
          ]
        }
      ]
    },
    {
      "cell_type": "code",
      "source": [],
      "metadata": {
        "id": "Za3XT4ywBqEo"
      },
      "execution_count": null,
      "outputs": []
    },
    {
      "cell_type": "markdown",
      "source": [
        "#implementazione base del TAC algorithm"
      ],
      "metadata": {
        "id": "mMUVpZfhBqzP"
      }
    },
    {
      "cell_type": "code",
      "source": [
        "import random\n",
        "def rand_TAC (f, xMin, xMax, yMax) :\n",
        "    '''\n",
        "    generazione di un numero pseudo-casuale\n",
        "    con il metodo try and catch\n",
        "    '''\n",
        "    x = rand_range (xMin, xMax) #genero due numeri casuali\n",
        "    y = rand_range (0, yMax)\n",
        "    while (y > f (x)) : #SELEZIONO I PUNTI IDONEI (al di sotto della f...)\n",
        "        x = rand_range (xMin, xMax)\n",
        "        y = rand_range (0, yMax)\n",
        "    return x\n"
      ],
      "metadata": {
        "id": "yOWrLohhBxvp"
      },
      "execution_count": 17,
      "outputs": []
    },
    {
      "cell_type": "markdown",
      "source": [
        "#ESEMPI LEZIONE:\n"
      ],
      "metadata": {
        "id": "LZYXpMIcCCcc"
      }
    },
    {
      "cell_type": "markdown",
      "source": [
        "#1:Use of `random ()` and `randint ()`"
      ],
      "metadata": {
        "id": "HKPRo3-9CE26"
      }
    },
    {
      "cell_type": "code",
      "source": [
        "#!/usr/bin/python\n",
        "'''\n",
        "generazione di numeri pseudo-casuali distribuiti uniformemente fra 0 ed 1\n",
        "python3 random_01.py 10\n",
        "'''\n",
        "\n",
        "import sys\n",
        "import random\n",
        "\n",
        "def main () :\n",
        "    '''\n",
        "    Funzione che implementa il programma principale\n",
        "     - documentazione di random https://docs.python.org/3/library/random.html\n",
        "    '''\n",
        "\n",
        "    if len(sys.argv) < 2 :\n",
        "        print ('usage: ', sys.argv[0], 'numero')  #inserire quanti numeri pscas vuoi stampare\n",
        "        exit ()\n",
        "\n",
        "    randlist = []\n",
        "    for i in range (int (sys.argv[1])):\n",
        "        # Return the next random floating point number in the range 0.0 <= X < 1.0\n",
        "        randlist.append (random.random ())\n",
        "        print (i, randlist[-1])\n",
        "\n",
        "\n",
        "    randlistint = []\n",
        "    for i in range (int (sys.argv[1])):\n",
        "        # Return the next random integer  number in the range 0.0 <= X < 1.0\n",
        "        randlistint.append (random.randint (0, 100))\n",
        "        print (i, randlistint[-1])\n",
        "\n",
        "\n",
        "# ---- ---- ---- ---- ---- ---- ---- ---- ---- ---- ---- ---- ----\n",
        "\n",
        "\n",
        "if __name__ == \"__main__\":\n",
        "    main ()"
      ],
      "metadata": {
        "id": "ILhi9AX1CJTc",
        "outputId": "24428221-d401-4a4f-da94-60d7c030d3f7",
        "colab": {
          "base_uri": "https://localhost:8080/",
          "height": 334
        }
      },
      "execution_count": 18,
      "outputs": [
        {
          "output_type": "error",
          "ename": "ValueError",
          "evalue": "ignored",
          "traceback": [
            "\u001b[0;31m---------------------------------------------------------------------------\u001b[0m",
            "\u001b[0;31mValueError\u001b[0m                                Traceback (most recent call last)",
            "\u001b[0;32m<ipython-input-18-58fe9f9607cd>\u001b[0m in \u001b[0;36m<cell line: 37>\u001b[0;34m()\u001b[0m\n\u001b[1;32m     36\u001b[0m \u001b[0;34m\u001b[0m\u001b[0m\n\u001b[1;32m     37\u001b[0m \u001b[0;32mif\u001b[0m \u001b[0m__name__\u001b[0m \u001b[0;34m==\u001b[0m \u001b[0;34m\"__main__\"\u001b[0m\u001b[0;34m:\u001b[0m\u001b[0;34m\u001b[0m\u001b[0;34m\u001b[0m\u001b[0m\n\u001b[0;32m---> 38\u001b[0;31m     \u001b[0mmain\u001b[0m \u001b[0;34m(\u001b[0m\u001b[0;34m)\u001b[0m\u001b[0;34m\u001b[0m\u001b[0;34m\u001b[0m\u001b[0m\n\u001b[0m",
            "\u001b[0;32m<ipython-input-18-58fe9f9607cd>\u001b[0m in \u001b[0;36mmain\u001b[0;34m()\u001b[0m\n\u001b[1;32m     19\u001b[0m \u001b[0;34m\u001b[0m\u001b[0m\n\u001b[1;32m     20\u001b[0m     \u001b[0mrandlist\u001b[0m \u001b[0;34m=\u001b[0m \u001b[0;34m[\u001b[0m\u001b[0;34m]\u001b[0m\u001b[0;34m\u001b[0m\u001b[0;34m\u001b[0m\u001b[0m\n\u001b[0;32m---> 21\u001b[0;31m     \u001b[0;32mfor\u001b[0m \u001b[0mi\u001b[0m \u001b[0;32min\u001b[0m \u001b[0mrange\u001b[0m \u001b[0;34m(\u001b[0m\u001b[0mint\u001b[0m \u001b[0;34m(\u001b[0m\u001b[0msys\u001b[0m\u001b[0;34m.\u001b[0m\u001b[0margv\u001b[0m\u001b[0;34m[\u001b[0m\u001b[0;36m1\u001b[0m\u001b[0;34m]\u001b[0m\u001b[0;34m)\u001b[0m\u001b[0;34m)\u001b[0m\u001b[0;34m:\u001b[0m\u001b[0;34m\u001b[0m\u001b[0;34m\u001b[0m\u001b[0m\n\u001b[0m\u001b[1;32m     22\u001b[0m         \u001b[0;31m# Return the next random floating point number in the range 0.0 <= X < 1.0\u001b[0m\u001b[0;34m\u001b[0m\u001b[0;34m\u001b[0m\u001b[0m\n\u001b[1;32m     23\u001b[0m         \u001b[0mrandlist\u001b[0m\u001b[0;34m.\u001b[0m\u001b[0mappend\u001b[0m \u001b[0;34m(\u001b[0m\u001b[0mrandom\u001b[0m\u001b[0;34m.\u001b[0m\u001b[0mrandom\u001b[0m \u001b[0;34m(\u001b[0m\u001b[0;34m)\u001b[0m\u001b[0;34m)\u001b[0m\u001b[0;34m\u001b[0m\u001b[0;34m\u001b[0m\u001b[0m\n",
            "\u001b[0;31mValueError\u001b[0m: invalid literal for int() with base 10: '-f'"
          ]
        }
      ]
    },
    {
      "cell_type": "markdown",
      "source": [
        "#2:Use of `random.seed ()`"
      ],
      "metadata": {
        "id": "KRBnCtkvCaRV"
      }
    },
    {
      "cell_type": "code",
      "source": [
        "#!/usr/bin/python\n",
        "'''\n",
        "generazione di numeri pseudo-casuali distribuiti uniformemente fra 0 ed 1\n",
        "a partire da un determinato seed\n",
        "python3 random_02.py 10 2.5\n",
        "'''\n",
        "\n",
        "import sys\n",
        "import random\n",
        "\n",
        "def main () :\n",
        "    '''\n",
        "    Funzione che implementa il programma principale\n",
        "    '''\n",
        "\n",
        "    if len(sys.argv) < 3 :  #INSERIRE QUANTI NUMERI VUOI STAMPARE E QUAL È IL SEED CHE VUOI\n",
        "        print ('usage: ', sys.argv[0], 'numero seed')\n",
        "        exit ()\n",
        "\n",
        "    random.seed (float (sys.argv[2]))\n",
        "    randlist = []\n",
        "    for i in range (int (sys.argv[1])):\n",
        "        # Return the next random floating point number in the range 0.0 <= X < 1.0\n",
        "        randlist.append (random.random ())\n",
        "        print (i, randlist[-1])\n",
        "\n",
        "\n",
        "# ---- ---- ---- ---- ---- ---- ---- ---- ---- ---- ---- ---- ----\n",
        "\n",
        "\n",
        "if __name__ == \"__main__\":\n",
        "    main ()"
      ],
      "metadata": {
        "id": "LwTVSjpjCfi7",
        "outputId": "b4a992a2-476f-453c-fc2c-5ffe9848bba0",
        "colab": {
          "base_uri": "https://localhost:8080/",
          "height": 334
        }
      },
      "execution_count": 19,
      "outputs": [
        {
          "output_type": "error",
          "ename": "ValueError",
          "evalue": "ignored",
          "traceback": [
            "\u001b[0;31m---------------------------------------------------------------------------\u001b[0m",
            "\u001b[0;31mValueError\u001b[0m                                Traceback (most recent call last)",
            "\u001b[0;32m<ipython-input-19-fa8ab63e1e08>\u001b[0m in \u001b[0;36m<cell line: 31>\u001b[0;34m()\u001b[0m\n\u001b[1;32m     30\u001b[0m \u001b[0;34m\u001b[0m\u001b[0m\n\u001b[1;32m     31\u001b[0m \u001b[0;32mif\u001b[0m \u001b[0m__name__\u001b[0m \u001b[0;34m==\u001b[0m \u001b[0;34m\"__main__\"\u001b[0m\u001b[0;34m:\u001b[0m\u001b[0;34m\u001b[0m\u001b[0;34m\u001b[0m\u001b[0m\n\u001b[0;32m---> 32\u001b[0;31m     \u001b[0mmain\u001b[0m \u001b[0;34m(\u001b[0m\u001b[0;34m)\u001b[0m\u001b[0;34m\u001b[0m\u001b[0;34m\u001b[0m\u001b[0m\n\u001b[0m",
            "\u001b[0;32m<ipython-input-19-fa8ab63e1e08>\u001b[0m in \u001b[0;36mmain\u001b[0;34m()\u001b[0m\n\u001b[1;32m     18\u001b[0m         \u001b[0mexit\u001b[0m \u001b[0;34m(\u001b[0m\u001b[0;34m)\u001b[0m\u001b[0;34m\u001b[0m\u001b[0;34m\u001b[0m\u001b[0m\n\u001b[1;32m     19\u001b[0m \u001b[0;34m\u001b[0m\u001b[0m\n\u001b[0;32m---> 20\u001b[0;31m     \u001b[0mrandom\u001b[0m\u001b[0;34m.\u001b[0m\u001b[0mseed\u001b[0m \u001b[0;34m(\u001b[0m\u001b[0mfloat\u001b[0m \u001b[0;34m(\u001b[0m\u001b[0msys\u001b[0m\u001b[0;34m.\u001b[0m\u001b[0margv\u001b[0m\u001b[0;34m[\u001b[0m\u001b[0;36m2\u001b[0m\u001b[0;34m]\u001b[0m\u001b[0;34m)\u001b[0m\u001b[0;34m)\u001b[0m\u001b[0;34m\u001b[0m\u001b[0;34m\u001b[0m\u001b[0m\n\u001b[0m\u001b[1;32m     21\u001b[0m     \u001b[0mrandlist\u001b[0m \u001b[0;34m=\u001b[0m \u001b[0;34m[\u001b[0m\u001b[0;34m]\u001b[0m\u001b[0;34m\u001b[0m\u001b[0;34m\u001b[0m\u001b[0m\n\u001b[1;32m     22\u001b[0m     \u001b[0;32mfor\u001b[0m \u001b[0mi\u001b[0m \u001b[0;32min\u001b[0m \u001b[0mrange\u001b[0m \u001b[0;34m(\u001b[0m\u001b[0mint\u001b[0m \u001b[0;34m(\u001b[0m\u001b[0msys\u001b[0m\u001b[0;34m.\u001b[0m\u001b[0margv\u001b[0m\u001b[0;34m[\u001b[0m\u001b[0;36m1\u001b[0m\u001b[0;34m]\u001b[0m\u001b[0;34m)\u001b[0m\u001b[0;34m)\u001b[0m\u001b[0;34m:\u001b[0m\u001b[0;34m\u001b[0m\u001b[0;34m\u001b[0m\u001b[0m\n",
            "\u001b[0;31mValueError\u001b[0m: could not convert string to float: '/root/.local/share/jupyter/runtime/kernel-b663dfa5-9f02-45b6-b997-1ffe1cbf0961.json'"
          ]
        }
      ]
    },
    {
      "cell_type": "markdown",
      "source": [
        "#3:Drawing of the obtained sequence of numbers"
      ],
      "metadata": {
        "id": "jsVJ-E8bC-V-"
      }
    },
    {
      "cell_type": "code",
      "source": [
        "#!/usr/bin/python\n",
        "'''\n",
        "generazione di numeri pseudo-casuali distribuiti uniformemente fra 0 ed 1\n",
        "a partire da un determinato seed. Disegno della distribuzione\n",
        "python3 random_03.py 200 2.4\n",
        "'''\n",
        "\n",
        "import sys\n",
        "import random\n",
        "import matplotlib.pyplot as plt\n",
        "import numpy as np\n",
        "from math import floor\n",
        "\n",
        "def main () :\n",
        "    '''\n",
        "    Funzione che implementa il programma principale\n",
        "    '''\n",
        "\n",
        "    if len(sys.argv) < 3 :\n",
        "        print ('usage: ', sys.argv[0], 'numero seed')\n",
        "        exit ()\n",
        "\n",
        "    random.seed (float (sys.argv[2]))\n",
        "    randlist = []\n",
        "    for i in range (int (sys.argv[1])):\n",
        "        # Return the next random floating point number in the range 0.0 <= X < 1.0\n",
        "        randlist.append (random.random ())\n",
        "        print (i, randlist[-1])\n",
        "\n",
        "    # plotting of the generated list of numbers in a histogram\n",
        "\n",
        "    xMin = 0.                                    # minimum of the histogram drawing range\n",
        "    xMax = 1.                                    # maximum of the histogram drawing range\n",
        "    nBins = floor (len (randlist) / 20.) + 1     # number of bins of the hitogram\n",
        "    bin_edges = np.linspace (xMin, xMax, nBins)  # edges o the histogram bins\n",
        "\n",
        "    # check the bin edges\n",
        "    print (bin_edges)\n",
        "    print (len (bin_edges))\n",
        "\n",
        "    # disegno della funzione\n",
        "    fig, ax = plt.subplots ()\n",
        "    ax.set_title ('Histogram of random numbers', size=14)\n",
        "    ax.set_xlabel('random value')\n",
        "    ax.set_ylabel('events in bin')\n",
        "    ax.hist (randlist,      # list of numbers\n",
        "             bins = bin_edges,\n",
        "             color = 'orange',\n",
        "             # normed = True,\n",
        "            )\n",
        "    plt.show ()\n",
        "\n",
        "# ---- ---- ---- ---- ---- ---- ---- ---- ---- ---- ---- ---- ----\n",
        "\n",
        "\n",
        "if __name__ == \"__main__\":\n",
        "    main ()"
      ],
      "metadata": {
        "id": "zOFywZ2mDBid"
      },
      "execution_count": null,
      "outputs": []
    },
    {
      "cell_type": "markdown",
      "source": [
        "#4:Porting of the generation code to a library"
      ],
      "metadata": {
        "id": "x6rOzHO2DOET"
      }
    },
    {
      "cell_type": "code",
      "source": [
        "#!/usr/bin/python\n",
        "'''\n",
        "generazione di numeri pseudo-casuali distribuiti uniformemente fra 0? ed 1?\n",
        "a partire da un determinato seed. disegno della distribuzione,\n",
        "separando la generazione dal programma principale\n",
        "python3 random_04.py 2000 2.4\n",
        "'''\n",
        "\n",
        "import sys\n",
        "import random\n",
        "import matplotlib.pyplot as plt\n",
        "import numpy as np\n",
        "from math import floor\n",
        "\n",
        "from myrand import generate_uniform #LA LIBRERIA COMPLETA È RIPORTATA DI SEGUITO\n",
        "\n",
        "def main () :\n",
        "    '''\n",
        "    Funzione che implementa il programma principale\n",
        "    '''\n",
        "\n",
        "    if len(sys.argv) < 3 :\n",
        "        print ('usage: ', sys.argv[0], 'numero seed')\n",
        "        exit ()\n",
        "\n",
        "    randlist = generate_uniform (int (sys.argv[1]), float (sys.argv[2]))\n",
        "\n",
        "    # plotting of the generated list of numbers in a histogram\n",
        "\n",
        "    xMin = 0.                                    # minimum of the histogram drawing range\n",
        "    xMax = 1.                                    # maximum of the histogram drawing range\n",
        "    nBins = floor (len (randlist) / 20.) + 1     # number of bins of the hitogram\n",
        "    bin_edges = np.linspace (xMin, xMax, nBins)  # edges o the histogram bins\n",
        "\n",
        "    # disegno della funzione\n",
        "    fig, ax = plt.subplots ()\n",
        "    ax.set_title ('Histogram of random numbers', size=14)\n",
        "    ax.set_xlabel('random value')\n",
        "    ax.set_ylabel('events in bin')\n",
        "    ax.hist (randlist,      # list of numbers\n",
        "             bins = bin_edges,\n",
        "             color = 'orange',\n",
        "             # normed = True,\n",
        "            )\n",
        "    plt.show ()\n",
        "\n",
        "\n",
        "# ---- ---- ---- ---- ---- ---- ---- ---- ---- ---- ---- ---- ----\n",
        "\n",
        "\n",
        "if __name__ == \"__main__\":\n",
        "    main ()"
      ],
      "metadata": {
        "id": "shGnJrKgDcDP"
      },
      "execution_count": null,
      "outputs": []
    },
    {
      "cell_type": "markdown",
      "source": [
        "#4:LIBRERIA **myrand** (DA CUI ESTRAGGO LA FUNZIONE generate_uniform per lo script precedente)"
      ],
      "metadata": {
        "id": "9xfu7uMtD3ln"
      }
    },
    {
      "cell_type": "code",
      "source": [
        "#!/usr/bin/python\n",
        "\n",
        "import random\n",
        "from math import sqrt\n",
        "\n",
        "\n",
        "def generate_uniform (N, seed = 0.) :\n",
        "    '''\n",
        "    generazione di N numeri pseudo-casuali distribuiti fra 0 ed 1\n",
        "    a partire da un determinato seed\n",
        "    '''\n",
        "    if seed != 0. : random.seed (float (seed))\n",
        "    randlist = []\n",
        "    for i in range (N):\n",
        "        # Return the next random floating point number in the range 0.0 <= X < 1.0\n",
        "        randlist.append (random.random ())\n",
        "    return randlist\n",
        "\n",
        "\n",
        "# ---- ---- ---- ---- ---- ---- ---- ---- ---- ---- ---- ---- ----\n",
        "\n",
        "\n",
        "def rand_range (xMin, xMax) :\n",
        "    '''\n",
        "    generazione di un numero pseudo-casuale distribuito fra xMin ed xMax\n",
        "    '''\n",
        "    return xMin + random.random () * (xMax - xMin)\n",
        "\n",
        "\n",
        "# ---- ---- ---- ---- ---- ---- ---- ---- ---- ---- ---- ---- ----\n",
        "\n",
        "\n",
        "def generate_range (xMin, xMax, N, seed = 0.) :\n",
        "    '''\n",
        "    generazione di N numeri pseudo-casuali distribuiti fra xMin ed xMax\n",
        "    a partire da un determinato seed\n",
        "    '''\n",
        "    if seed != 0. : random.seed (float (seed))\n",
        "    randlist = []\n",
        "    for i in range (N):\n",
        "        # Return the next random floating point number in the range 0.0 <= X < 1.0\n",
        "        randlist.append (rand_range (xMin, xMax))\n",
        "    return randlist\n",
        "\n",
        "\n",
        "# ---- ---- ---- ---- ---- ---- ---- ---- ---- ---- ---- ---- ----\n",
        "\n",
        "\n",
        "def rand_TAC (f, xMin, xMax, yMax) :\n",
        "    '''\n",
        "    generazione di un numero pseudo-casuale\n",
        "    con il metodo try and catch\n",
        "    '''\n",
        "    x = rand_range (xMin, xMax)\n",
        "    y = rand_range (0, yMax)\n",
        "    while (y > f (x)) :\n",
        "        x = rand_range (xMin, xMax)\n",
        "        y = rand_range (0, yMax)\n",
        "    return x\n",
        "\n",
        "\n",
        "# ---- ---- ---- ---- ---- ---- ---- ---- ---- ---- ---- ---- ----\n",
        "\n",
        "\n",
        "def generate_TAC (f, xMin, xMax, yMax, N, seed = 0.) :\n",
        "    '''\n",
        "    generazione di N numeri pseudo-casuali\n",
        "    con il metodo try and catch, in un certo intervallo,\n",
        "    a partire da un determinato seed\n",
        "    '''\n",
        "    if seed != 0. : random.seed (float (seed))\n",
        "    randlist = []\n",
        "    for i in range (N):\n",
        "        # Return the next random floating point number in the range 0.0 <= X < 1.0\n",
        "        randlist.append (rand_TAC (f, xMin, xMax, yMax))\n",
        "    return randlist\n",
        "\n",
        "\n",
        "# ---- ---- ---- ---- ---- ---- ---- ---- ---- ---- ---- ---- ----\n",
        "\n",
        "\n",
        "def rand_TCL (xMin, xMax, N_sum = 10) :\n",
        "    '''\n",
        "    generazione di un numero pseudo-casuale\n",
        "    con il metodo del teorema centrale del limite\n",
        "    su un intervallo fissato\n",
        "    '''\n",
        "    y = 0.\n",
        "    for i in range (N_sum) :\n",
        "        y = y + rand_range (xMin, xMax)\n",
        "    y /= N_sum ;\n",
        "    return y ;\n",
        "\n",
        "\n",
        "# ---- ---- ---- ---- ---- ---- ---- ---- ---- ---- ---- ---- ----\n",
        "\n",
        "\n",
        "def generate_TCL (xMin, xMax, N, N_sum = 10, seed = 0.) :\n",
        "    '''\n",
        "    generazione di N numeri pseudo-casuali\n",
        "    con il metodo del teorema centrale del limite, in un certo intervallo,\n",
        "    a partire da un determinato seed\n",
        "    '''\n",
        "    if seed != 0. : random.seed (float (seed))\n",
        "    randlist = []\n",
        "    for i in range (N):\n",
        "        # Return the next random floating point number in the range 0.0 <= X < 1.0\n",
        "        randlist.append (rand_TCL (xMin, xMax, N_sum))\n",
        "    return randlist\n",
        "\n",
        "\n",
        "# ---- ---- ---- ---- ---- ---- ---- ---- ---- ---- ---- ---- ----\n",
        "\n",
        "\n",
        "def rand_TCL_ms (mean, sigma, N_sum = 10) :\n",
        "    '''\n",
        "    generazione di un numero pseudo-casuale\n",
        "    con il metodo del teorema centrale del limite\n",
        "    note media e sigma della gaussiana\n",
        "    '''\n",
        "    y = 0.\n",
        "    delta = sqrt (3 * N_sum) * sigma\n",
        "    xMin = mean - delta\n",
        "    xMax = mean + delta\n",
        "    for i in range (N_sum) :\n",
        "        y = y + rand_range (xMin, xMax)\n",
        "    y /= N_sum ;\n",
        "    return y ;\n",
        "\n",
        "\n",
        "# ---- ---- ---- ---- ---- ---- ---- ---- ---- ---- ---- ---- ----\n",
        "\n",
        "\n",
        "def generate_TCL_ms (mean, sigma, N, N_sum = 10, seed = 0.) :\n",
        "    '''\n",
        "    generazione di N numeri pseudo-casuali\n",
        "    con il metodo del teorema centrale del limite, note media e sigma della gaussiana,\n",
        "    a partire da un determinato seed\n",
        "    '''\n",
        "    if seed != 0. : random.seed (float (seed))\n",
        "    randlist = []\n",
        "    delta = sqrt (3 * N_sum) * sigma\n",
        "    xMin = mean - delta\n",
        "    xMax = mean + delta\n",
        "    for i in range (N):\n",
        "        # Return the next random floating point number in the range 0.0 <= X < 1.0\n",
        "        randlist.append (rand_TCL (xMin, xMax, N_sum))\n",
        "    return randlist\n",
        "\n"
      ],
      "metadata": {
        "id": "gTSachirEET-"
      },
      "execution_count": null,
      "outputs": []
    },
    {
      "cell_type": "markdown",
      "source": [
        "#5:Generation of pseudo-random numbers uniformly within (xMin, xMax)\n",
        "\n"
      ],
      "metadata": {
        "id": "LIPtil3iEdyz"
      }
    },
    {
      "cell_type": "code",
      "source": [
        "#!/usr/bin/python\n",
        "'''\n",
        "generazione di numeri pseudo-casuali distribuiti uniformemente fra xMin ed xMax\n",
        "a partire da un determinato seed e disegno della distribuzione,\n",
        "separando la generazione dal programma principale\n",
        "python3 random_05.py 2.2 4.3 2000 2.4\n",
        "'''\n",
        "\n",
        "import sys\n",
        "import random\n",
        "import matplotlib.pyplot as plt\n",
        "import numpy as np\n",
        "from math import floor\n",
        "\n",
        "from myrand import generate_range\n",
        "\n",
        "def main () :\n",
        "    '''\n",
        "    Funzione che implementa il programma principale\n",
        "    '''\n",
        "\n",
        "    if len(sys.argv) < 5 :\n",
        "        print ('usage: ', sys.argv[0], 'xMin xMax numero seed')\n",
        "        exit ()\n",
        "\n",
        "    xMin = float (sys.argv[1])  # minimum of the histogram drawing range\n",
        "    xMax = float (sys.argv[2])  # maximum of the histogram drawing range\n",
        "    seed = float (sys.argv[4])\n",
        "    N    = int (sys.argv[3])\n",
        "\n",
        "    print (' -------- ')\n",
        "    print (' minimum : ', xMin)\n",
        "    print (' maximum : ', xMax)\n",
        "    print (' seed    : ', seed)\n",
        "    print (' N       : ', N)\n",
        "    print (' -------- ')\n",
        "\n",
        "    randlist = generate_range (xMin, xMax, N, seed)\n",
        "\n",
        "    # plotting of the generated list of numbers in a histogram\n",
        "\n",
        "    nBins = floor (len (randlist) / 20.) + 1     # number of bins of the hitogram\n",
        "    bin_edges = np.linspace (xMin, xMax, nBins)  # edges o the histogram bins\n",
        "\n",
        "    # disegno della funzione\n",
        "    fig, ax = plt.subplots ()\n",
        "    ax.set_title ('Histogram of random numbers', size=14)\n",
        "    ax.set_xlabel ('random value')\n",
        "    ax.set_ylabel ('events in bin')\n",
        "    ax.hist (randlist,      # list of numbers\n",
        "             bins = bin_edges,\n",
        "             color = 'orange',\n",
        "             # normed = True,\n",
        "            )\n",
        "    plt.show ()\n",
        "\n",
        "\n",
        "# ---- ---- ---- ---- ---- ---- ---- ---- ---- ---- ---- ---- ----\n",
        "\n",
        "\n",
        "if __name__ == \"__main__\":\n",
        "    main ()"
      ],
      "metadata": {
        "id": "OBouzFX1Ejax"
      },
      "execution_count": null,
      "outputs": []
    },
    {
      "cell_type": "markdown",
      "source": [
        "#6:Visualisation of a pseudo-random sequence"
      ],
      "metadata": {
        "id": "4kc2_1IVEx-W"
      }
    },
    {
      "cell_type": "code",
      "source": [
        "#!/usr/bin/python\n",
        "'''\n",
        "generazione di numeri pseudo-casuali distribuiti uniformemente fra xMin ed xMax\n",
        "a partire da un determinato seed e disegno della sequenza di numeri,\n",
        "separando la generazione dal programma principale\n",
        "python3 random_06.py 2.2 4.3 20 2.4\n",
        "'''\n",
        "\n",
        "import sys\n",
        "import random\n",
        "import matplotlib.pyplot as plt\n",
        "import numpy as np\n",
        "from math import floor\n",
        "\n",
        "from myrand import generate_range\n",
        "\n",
        "def main () :\n",
        "    '''\n",
        "    Funzione che implementa il programma principale\n",
        "    '''\n",
        "\n",
        "    if len(sys.argv) < 5 :\n",
        "        print ('usage: ', sys.argv[0], 'xMin xMax numero seed')\n",
        "        exit ()\n",
        "\n",
        "    xMin = float (sys.argv[1])  # minimum of the histogram drawing range\n",
        "    xMax = float (sys.argv[2])  # maximum of the histogram drawing range\n",
        "    seed = float (sys.argv[4])\n",
        "    N    = int (sys.argv[3])\n",
        "\n",
        "    print (' -------- ')\n",
        "    print (' minimum : ', xMin)\n",
        "    print (' maximum : ', xMax)\n",
        "    print (' seed    : ', seed)\n",
        "    print (' N       : ', N)\n",
        "    print (' -------- ')\n",
        "\n",
        "    # list of uniformly generated numbers\n",
        "    randlist = generate_range (xMin, xMax, N, seed)\n",
        "    # list of the position indices of the pseudo-random numbers in randlist\n",
        "    index = range (len (randlist))\n",
        "\n",
        "    # disegno della funzione\n",
        "    fig, ax = plt.subplots ()\n",
        "    ax.set_title ('Sequence of random numbers', size=14)\n",
        "    ax.set_xlabel ('index in the sequence')\n",
        "    ax.set_ylabel ('random value')\n",
        "#    ax.scatter (index, randlist)\n",
        "    ax.plot (index, randlist, marker = 'o')\n",
        "    plt.show ()\n",
        "\n",
        "\n",
        "# ---- ---- ---- ---- ---- ---- ---- ---- ---- ---- ---- ---- ----\n",
        "\n",
        "\n",
        "if __name__ == \"__main__\":\n",
        "    main ()"
      ],
      "metadata": {
        "id": "f39ZbN-nE4uS"
      },
      "execution_count": null,
      "outputs": []
    },
    {
      "cell_type": "markdown",
      "source": [
        " #7:Visualisation of a pseudo-random sequence and its distribution"
      ],
      "metadata": {
        "id": "B9jx9_HNFPHV"
      }
    },
    {
      "cell_type": "code",
      "source": [
        "#!/usr/bin/python\n",
        "'''\n",
        "generazione di numeri pseudo-casuali distribuiti uniformemente fra xMin ed xMax\n",
        "a partire da un determinato seed e disegno congiunto della loro distribuzione e sequenza,\n",
        "separando la generazione dal programma principale\n",
        "reference documentation:\n",
        "https://matplotlib.org/stable/gallery/axes_grid1/scatter_hist_locatable_axes.html#sphx-glr-gallery-axes-grid1-scatter-hist-locatable-axes-py\n",
        "python3 random_07.py 2.2 4.3 100 2.4\n",
        "'''\n",
        "\n",
        "import sys\n",
        "import random\n",
        "import matplotlib.pyplot as plt\n",
        "from mpl_toolkits.axes_grid1 import make_axes_locatable\n",
        "import numpy as np\n",
        "from math import floor\n",
        "\n",
        "from myrand import generate_range\n",
        "\n",
        "\n",
        "def main () :\n",
        "    '''\n",
        "    Funzione che implementa il programma principale\n",
        "    '''\n",
        "\n",
        "    if len(sys.argv) < 5 :\n",
        "        print ('usage: ', sys.argv[0], 'xMin xMax numero seed')\n",
        "        exit ()\n",
        "\n",
        "    xMin = float (sys.argv[1])  # minimum of the histogram drawing range\n",
        "    xMax = float (sys.argv[2])  # maximum of the histogram drawing range\n",
        "    seed = float (sys.argv[4])\n",
        "    N    = int (sys.argv[3])\n",
        "\n",
        "    print (' -------- ')\n",
        "    print (' minimum : ', xMin)\n",
        "    print (' maximum : ', xMax)\n",
        "    print (' seed    : ', seed)\n",
        "    print (' N       : ', N)\n",
        "    print (' -------- ')\n",
        "\n",
        "    # list of uniformly generated numbers\n",
        "    randlist = generate_range (xMin, xMax, N, seed)\n",
        "    # list of the position indices of the pseudo-random numbers in randlist\n",
        "    index = range (len (randlist))\n",
        "\n",
        "    # disegno della funzione\n",
        "    fig, ax = plt.subplots ()\n",
        "    ax.set_title ('Sequence of random numbers', size=14)\n",
        "    ax.set_xlabel ('index in the sequence')\n",
        "    ax.set_ylabel ('random value')\n",
        "#    ax.scatter (index, randlist)\n",
        "    ax.plot (index, randlist, marker = 'o')\n",
        "\n",
        "    # create a new axis on the left of the current axes\n",
        "    divider = make_axes_locatable (ax)\n",
        "    # below height and pad are in inches\n",
        "    ax_histy = divider.append_axes (\"right\", 1.2, pad=0.1, sharey=ax)\n",
        "    ax_histy.set_xlabel ('counts')\n",
        "\n",
        "    # make some labels invisible\n",
        "    ax_histy.yaxis.set_tick_params (labelleft=False)\n",
        "\n",
        "    nBins = floor (len (randlist) / 10.) + 1     # number of bins of the hitogram\n",
        "    bin_edges = np.linspace (xMin, xMax, nBins)  # edges o the histogram bins\n",
        "\n",
        "    ax_histy.hist (randlist,      # list of numbers\n",
        "                   bins = bin_edges,\n",
        "                   color = 'orange',\n",
        "                   orientation='horizontal',\n",
        "                   # normed = True,\n",
        "                  )\n",
        "    plt.show ()\n",
        "\n",
        "\n",
        "# ---- ---- ---- ---- ---- ---- ---- ---- ---- ---- ---- ---- ----\n",
        "\n",
        "\n",
        "if __name__ == \"__main__\":\n",
        "    main ()"
      ],
      "metadata": {
        "id": "WvtFxCGsFQ7w"
      },
      "execution_count": null,
      "outputs": []
    },
    {
      "cell_type": "markdown",
      "source": [
        "#8:Generation of pseudo-random numbers with the **try-and-catch method**"
      ],
      "metadata": {
        "id": "Xq-q76sSFX7d"
      }
    },
    {
      "cell_type": "code",
      "source": [
        "#!/usr/bin/python\n",
        "'''\n",
        "generazione di numeri pseudo-casuali distribuiti secondo una distribuzione arbitraria\n",
        "con il metodo try-and-catch fra xMin ed xMax\n",
        "a partire da un determinato seed e disegno della distribuzione,\n",
        "separando la generazione dal programma principale\n",
        "python3 random_08.py 0. 10 2. 20000 2.4\n",
        "'''\n",
        "\n",
        "import sys\n",
        "import random\n",
        "import matplotlib.pyplot as plt\n",
        "import numpy as np\n",
        "from math import floor\n",
        "\n",
        "from myrand import generate_TAC\n",
        "\n",
        "\n",
        "def func (x, scale = 1) :\n",
        "    '''\n",
        "    funzione definita positiva sotto la quale generare numeri casuali\n",
        "    '''\n",
        "    return scale * (np.cos (x) + 1.)\n",
        "\n",
        "\n",
        "# ---- ---- ---- ---- ---- ---- ---- ---- ---- ---- ---- ---- ----\n",
        "\n",
        "\n",
        "def main () :\n",
        "    '''\n",
        "    Funzione che implementa il programma principale\n",
        "    '''\n",
        "\n",
        "    if len(sys.argv) < 6 :\n",
        "        print ('usage: ', sys.argv[0], 'xMin xMax numero seed')\n",
        "        exit ()\n",
        "\n",
        "    xMin = float (sys.argv[1])  # minimum of the histogram drawing range\n",
        "    xMax = float (sys.argv[2])  # maximum of the histogram drawing range\n",
        "    yMax = float (sys.argv[3])  # maximum of the histogram drawing range\n",
        "    seed = float (sys.argv[5])\n",
        "    N    = int (sys.argv[4])\n",
        "\n",
        "    print (' -------- ')\n",
        "    print (' minimum : ', xMin)\n",
        "    print (' maximum : ', xMax)\n",
        "    print (' seed    : ', seed)\n",
        "    print (' N       : ', N)\n",
        "    print (' -------- ')\n",
        "\n",
        "    randlist = generate_TAC (func, xMin, xMax, yMax, N, seed)\n",
        "\n",
        "    # plotting of the generated list of numbers in a histogram\n",
        "\n",
        "    nBins = floor (len (randlist) / 400.)             # number of bins of the hitogram\n",
        "    bin_edges = np.linspace (xMin, xMax, nBins + 1)  # edges o the histogram bins\n",
        "\n",
        "    # disegno della funzione\n",
        "    fig, ax = plt.subplots ()\n",
        "    ax.set_title ('Histogram of random numbers', size=14)\n",
        "    ax.set_xlabel ('random value')\n",
        "    ax.set_ylabel ('events in bin')\n",
        "    ax.hist (randlist,      # list of numbers\n",
        "             bins = bin_edges,\n",
        "             color = 'orange',\n",
        "             # normed = True,\n",
        "            )\n",
        "\n",
        "    plt.show ()\n",
        "\n",
        "\n",
        "# ---- ---- ---- ---- ---- ---- ---- ---- ---- ---- ---- ---- ----\n",
        "\n",
        "\n",
        "if __name__ == \"__main__\":\n",
        "    main ()"
      ],
      "metadata": {
        "id": "yrpVGN9uFdTR"
      },
      "execution_count": null,
      "outputs": []
    },
    {
      "cell_type": "markdown",
      "source": [
        "#9:Generation of pseudo-random numbers with the **central limit theorem method**"
      ],
      "metadata": {
        "id": "jSnP41WkFmif"
      }
    },
    {
      "cell_type": "code",
      "source": [
        "#!/usr/bin/python\n",
        "'''\n",
        "generazione di numeri pseudo-casuali distribuiti secondo una distribuzione Gaussiana\n",
        "con il metodo del teorema centrale del limite fra xMin ed xMax\n",
        "a partire da un determinato seed e disegno della distribuzione,\n",
        "separando la generazione dal programma principale\n",
        "python3 random_09.py 0. 10 20000 2.4 10\n",
        "'''\n",
        "\n",
        "import sys\n",
        "import random\n",
        "import matplotlib.pyplot as plt\n",
        "import numpy as np\n",
        "from math import floor\n",
        "\n",
        "from myrand import generate_TCL\n",
        "\n",
        "\n",
        "def main () :\n",
        "    '''\n",
        "    Funzione che implementa il programma principale\n",
        "    '''\n",
        "\n",
        "    if len(sys.argv) < 6:\n",
        "        print ('usage: ', sys.argv[0], 'xMin xMax numero seed')\n",
        "        exit ()\n",
        "\n",
        "    xMin  = float (sys.argv[1])  # minimum of the histogram drawing range\n",
        "    xMax  = float (sys.argv[2])  # maximum of the histogram drawing range\n",
        "    seed  = float (sys.argv[4])\n",
        "    N     = int (sys.argv[3])\n",
        "    N_sum = int (sys.argv[5])\n",
        "\n",
        "    print (' -------- ')\n",
        "    print (' minimum : ', xMin)\n",
        "    print (' maximum : ', xMax)\n",
        "    print (' seed    : ', seed)\n",
        "    print (' N       : ', N)\n",
        "    print (' N_sum   : ', N_sum)\n",
        "    print (' -------- ')\n",
        "\n",
        "    randlist = generate_TCL (xMin, xMax, N, N_sum, seed)\n",
        "\n",
        "    # plotting of the generated list of numbers in a histogram\n",
        "\n",
        "    nBins = floor (len (randlist) / 400.)             # number of bins of the hitogram\n",
        "    bin_edges = np.linspace (xMin, xMax, nBins + 1)  # edges o the histogram bins\n",
        "\n",
        "    # disegno della funzione\n",
        "    fig, ax = plt.subplots ()\n",
        "    ax.set_title ('Histogram of random numbers', size=14)\n",
        "    ax.set_xlabel ('random value')\n",
        "    ax.set_ylabel ('events in bin')\n",
        "    ax.hist (randlist,      # list of numbers\n",
        "             bins = bin_edges,\n",
        "             color = 'orange',\n",
        "             # normed = True,\n",
        "            )\n",
        "\n",
        "    plt.show ()\n",
        "\n",
        "\n",
        "# ---- ---- ---- ---- ---- ---- ---- ---- ---- ---- ---- ---- ----\n",
        "\n",
        "\n",
        "if __name__ == \"__main__\":\n",
        "    main ()"
      ],
      "metadata": {
        "id": "zRZJWO2BFrEh"
      },
      "execution_count": null,
      "outputs": []
    }
  ],
  "metadata": {
    "kernelspec": {
      "display_name": "Python 3 (ipykernel)",
      "language": "python",
      "name": "python3"
    },
    "language_info": {
      "codemirror_mode": {
        "name": "ipython",
        "version": 3
      },
      "file_extension": ".py",
      "mimetype": "text/x-python",
      "name": "python",
      "nbconvert_exporter": "python",
      "pygments_lexer": "ipython3",
      "version": "3.8.10"
    },
    "colab": {
      "provenance": []
    }
  },
  "nbformat": 4,
  "nbformat_minor": 0
}